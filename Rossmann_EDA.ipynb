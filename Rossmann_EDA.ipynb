{
 "cells": [
  {
   "cell_type": "markdown",
   "metadata": {
    "toc": true
   },
   "source": [
    "<h1>Appendix<span class=\"tocSkip\"></span></h1>\n",
    "<div class=\"toc\"><ul class=\"toc-item\"><li><span><a href=\"#Importing-the-necessary-libraries\" data-toc-modified-id=\"Importing-the-necessary-libraries-1\">Importing the necessary libraries</a></span></li><li><span><a href=\"#Reading-the-datasets\" data-toc-modified-id=\"Reading-the-datasets-2\">Reading the datasets</a></span></li><li><span><a href=\"#Exploratory-Data-Analysis\" data-toc-modified-id=\"Exploratory-Data-Analysis-3\">Exploratory Data Analysis</a></span></li><li><span><a href=\"#Integrating-the-train-and-store-datasets\" data-toc-modified-id=\"Integrating-the-train-and-store-datasets-4\">Integrating the train and store datasets</a></span></li><li><span><a href=\"#Conclusions-of-EDA\" data-toc-modified-id=\"Conclusions-of-EDA-5\">Conclusions of EDA</a></span></li><li><span><a href=\"#Creating-Outlier-Column-based-on-mean-absolute-deviation.\" data-toc-modified-id=\"Creating-Outlier-Column-based-on-mean-absolute-deviation.-6\">Creating Outlier Column based on mean absolute deviation.</a></span></li><li><span><a href=\"#Holidays-this-week,-last-week-and-next-week.\" data-toc-modified-id=\"Holidays-this-week,-last-week-and-next-week.-7\">Holidays this week, last week and next week.</a></span></li></ul></div>"
   ]
  },
  {
   "cell_type": "markdown",
   "metadata": {},
   "source": [
    "#### Importing the necessary libraries"
   ]
  },
  {
   "cell_type": "code",
   "execution_count": 1,
   "metadata": {
    "ExecuteTime": {
     "end_time": "2021-03-05T23:08:06.712271Z",
     "start_time": "2021-03-05T23:07:19.232799Z"
    }
   },
   "outputs": [
    {
     "name": "stderr",
     "output_type": "stream",
     "text": [
      "<ipython-input-1-d3132489bda7>:9: FutureWarning: The pandas.datetime class is deprecated and will be removed from pandas in a future version. Import from datetime module instead.\n",
      "  from pandas import datetime\n"
     ]
    }
   ],
   "source": [
    "import numpy as np\n",
    "import pandas as pd\n",
    "import matplotlib.pyplot as plt\n",
    "import xgboost as xgb\n",
    "import seaborn as sns\n",
    "import json\n",
    "# import lightgbm as lgb\n",
    "\n",
    "from pandas import datetime\n",
    "import math\n",
    "import re\n",
    "import time\n",
    "import random\n",
    "import os\n",
    "import pickle\n",
    "import joblib\n",
    "\n",
    "from pandas.tseries.offsets import *\n",
    "from operator import *\n",
    "\n",
    "import warnings \n",
    "warnings.filterwarnings('ignore')\n",
    "\n",
    "from sklearn.preprocessing import OneHotEncoder, LabelEncoder, StandardScaler\n",
    "from sklearn.experimental import enable_iterative_imputer\n",
    "from sklearn.impute import SimpleImputer, IterativeImputer\n",
    "\n",
    "from sklearn.pipeline import FeatureUnion, Pipeline\n",
    "from sklearn.compose import ColumnTransformer\n",
    "\n",
    "from sklearn.model_selection import RandomizedSearchCV, TimeSeriesSplit\n",
    "from sklearn.linear_model import SGDRegressor\n",
    "from sklearn.tree import DecisionTreeRegressor\n",
    "from sklearn.ensemble import RandomForestRegressor\n",
    "from sklearn.metrics import make_scorer\n",
    "\n",
    "from IPython.display import Image\n",
    "\n",
    "from sklearn.svm import SVR\n",
    "from sklearn.model_selection import cross_val_score"
   ]
  },
  {
   "cell_type": "code",
   "execution_count": 2,
   "metadata": {
    "ExecuteTime": {
     "end_time": "2021-03-05T23:08:06.737250Z",
     "start_time": "2021-03-05T23:08:06.719265Z"
    }
   },
   "outputs": [],
   "source": [
    "def annotate_plot(ax, attribute):\n",
    "    for p in ax.patches:\n",
    "        ax.annotate(\"%.2f\" % p.get_height(), (p.get_x() + p.get_width() / 2., p.get_height()),\n",
    "                ha='center', va='center', fontsize=11, color='black',\n",
    "                xytext=(0, 10), textcoords='offset points')\n",
    "    ax.axis(ymin=0,ymax=(train[attribute].mean() + (train[attribute].mean()*0.3)))"
   ]
  },
  {
   "cell_type": "markdown",
   "metadata": {},
   "source": [
    "#### Reading the datasets"
   ]
  },
  {
   "cell_type": "code",
   "execution_count": 3,
   "metadata": {
    "ExecuteTime": {
     "end_time": "2021-03-05T23:08:09.999397Z",
     "start_time": "2021-03-05T23:08:06.748245Z"
    },
    "scrolled": false
   },
   "outputs": [],
   "source": [
    "train = pd.read_csv('./Data_Preprocessing_Report/Data/Original/train.csv', \n",
    "                       parse_dates=['Date'],\n",
    "                       date_parser=(lambda dt: pd.to_datetime(dt, format='%d/%m/%Y')))\n",
    "\n",
    "test = pd.read_csv('./Data_Preprocessing_Report/Data/Original/test.csv', \n",
    "                        parse_dates=['Date'],\n",
    "                        date_parser=(lambda dt: pd.to_datetime(dt, format='%d/%m/%Y')))\n",
    "\n",
    "store = pd.read_csv('./Data_Preprocessing_Report/Data/Original/store.csv')"
   ]
  },
  {
   "cell_type": "markdown",
   "metadata": {
    "ExecuteTime": {
     "end_time": "2021-02-26T18:49:32.833735Z",
     "start_time": "2021-02-26T18:49:32.825740Z"
    }
   },
   "source": [
    "First few rows of the training set"
   ]
  },
  {
   "cell_type": "code",
   "execution_count": 4,
   "metadata": {
    "ExecuteTime": {
     "end_time": "2021-03-05T23:08:10.456115Z",
     "start_time": "2021-03-05T23:08:10.008392Z"
    },
    "scrolled": true
   },
   "outputs": [
    {
     "data": {
      "text/html": [
       "<div>\n",
       "<style scoped>\n",
       "    .dataframe tbody tr th:only-of-type {\n",
       "        vertical-align: middle;\n",
       "    }\n",
       "\n",
       "    .dataframe tbody tr th {\n",
       "        vertical-align: top;\n",
       "    }\n",
       "\n",
       "    .dataframe thead th {\n",
       "        text-align: right;\n",
       "    }\n",
       "</style>\n",
       "<table border=\"1\" class=\"dataframe\">\n",
       "  <thead>\n",
       "    <tr style=\"text-align: right;\">\n",
       "      <th></th>\n",
       "      <th>Store</th>\n",
       "      <th>DayOfWeek</th>\n",
       "      <th>Date</th>\n",
       "      <th>Sales</th>\n",
       "      <th>Customers</th>\n",
       "      <th>Open</th>\n",
       "      <th>Promo</th>\n",
       "      <th>StateHoliday</th>\n",
       "      <th>SchoolHoliday</th>\n",
       "    </tr>\n",
       "  </thead>\n",
       "  <tbody>\n",
       "    <tr>\n",
       "      <th>0</th>\n",
       "      <td>1</td>\n",
       "      <td>5</td>\n",
       "      <td>2015-07-31</td>\n",
       "      <td>5263</td>\n",
       "      <td>555</td>\n",
       "      <td>1</td>\n",
       "      <td>1</td>\n",
       "      <td>0</td>\n",
       "      <td>1</td>\n",
       "    </tr>\n",
       "    <tr>\n",
       "      <th>1</th>\n",
       "      <td>2</td>\n",
       "      <td>5</td>\n",
       "      <td>2015-07-31</td>\n",
       "      <td>6064</td>\n",
       "      <td>625</td>\n",
       "      <td>1</td>\n",
       "      <td>1</td>\n",
       "      <td>0</td>\n",
       "      <td>1</td>\n",
       "    </tr>\n",
       "    <tr>\n",
       "      <th>2</th>\n",
       "      <td>3</td>\n",
       "      <td>5</td>\n",
       "      <td>2015-07-31</td>\n",
       "      <td>8314</td>\n",
       "      <td>821</td>\n",
       "      <td>1</td>\n",
       "      <td>1</td>\n",
       "      <td>0</td>\n",
       "      <td>1</td>\n",
       "    </tr>\n",
       "    <tr>\n",
       "      <th>3</th>\n",
       "      <td>4</td>\n",
       "      <td>5</td>\n",
       "      <td>2015-07-31</td>\n",
       "      <td>13995</td>\n",
       "      <td>1498</td>\n",
       "      <td>1</td>\n",
       "      <td>1</td>\n",
       "      <td>0</td>\n",
       "      <td>1</td>\n",
       "    </tr>\n",
       "    <tr>\n",
       "      <th>4</th>\n",
       "      <td>5</td>\n",
       "      <td>5</td>\n",
       "      <td>2015-07-31</td>\n",
       "      <td>4822</td>\n",
       "      <td>559</td>\n",
       "      <td>1</td>\n",
       "      <td>1</td>\n",
       "      <td>0</td>\n",
       "      <td>1</td>\n",
       "    </tr>\n",
       "  </tbody>\n",
       "</table>\n",
       "</div>"
      ],
      "text/plain": [
       "   Store  DayOfWeek       Date  Sales  Customers  Open  Promo StateHoliday  \\\n",
       "0      1          5 2015-07-31   5263        555     1      1            0   \n",
       "1      2          5 2015-07-31   6064        625     1      1            0   \n",
       "2      3          5 2015-07-31   8314        821     1      1            0   \n",
       "3      4          5 2015-07-31  13995       1498     1      1            0   \n",
       "4      5          5 2015-07-31   4822        559     1      1            0   \n",
       "\n",
       "   SchoolHoliday  \n",
       "0              1  \n",
       "1              1  \n",
       "2              1  \n",
       "3              1  \n",
       "4              1  "
      ]
     },
     "execution_count": 4,
     "metadata": {},
     "output_type": "execute_result"
    }
   ],
   "source": [
    "train.head()"
   ]
  },
  {
   "cell_type": "markdown",
   "metadata": {},
   "source": [
    "Let's take a look at the stucture of the training set"
   ]
  },
  {
   "cell_type": "code",
   "execution_count": 5,
   "metadata": {
    "ExecuteTime": {
     "end_time": "2021-03-05T23:08:10.884858Z",
     "start_time": "2021-03-05T23:08:10.464112Z"
    }
   },
   "outputs": [
    {
     "name": "stdout",
     "output_type": "stream",
     "text": [
      "The number of rows and columns in the training set are: (1017209, 9) \n",
      "\n",
      "<class 'pandas.core.frame.DataFrame'>\n",
      "RangeIndex: 1017209 entries, 0 to 1017208\n",
      "Data columns (total 9 columns):\n",
      " #   Column         Non-Null Count    Dtype         \n",
      "---  ------         --------------    -----         \n",
      " 0   Store          1017209 non-null  int64         \n",
      " 1   DayOfWeek      1017209 non-null  int64         \n",
      " 2   Date           1017209 non-null  datetime64[ns]\n",
      " 3   Sales          1017209 non-null  int64         \n",
      " 4   Customers      1017209 non-null  int64         \n",
      " 5   Open           1017209 non-null  int64         \n",
      " 6   Promo          1017209 non-null  int64         \n",
      " 7   StateHoliday   1017209 non-null  object        \n",
      " 8   SchoolHoliday  1017209 non-null  int64         \n",
      "dtypes: datetime64[ns](1), int64(7), object(1)\n",
      "memory usage: 69.8+ MB\n"
     ]
    }
   ],
   "source": [
    "print(\"The number of rows and columns in the training set are: {} \\n\".format(train.shape))\n",
    "train.info()"
   ]
  },
  {
   "cell_type": "markdown",
   "metadata": {},
   "source": [
    "There a over a million records in the traning set. This is a fair amount of data to perform forecast related data analytics"
   ]
  },
  {
   "cell_type": "markdown",
   "metadata": {},
   "source": [
    "First few rows of the test set"
   ]
  },
  {
   "cell_type": "code",
   "execution_count": 6,
   "metadata": {
    "ExecuteTime": {
     "end_time": "2021-03-05T23:08:10.921834Z",
     "start_time": "2021-03-05T23:08:10.892851Z"
    },
    "scrolled": true
   },
   "outputs": [
    {
     "data": {
      "text/html": [
       "<div>\n",
       "<style scoped>\n",
       "    .dataframe tbody tr th:only-of-type {\n",
       "        vertical-align: middle;\n",
       "    }\n",
       "\n",
       "    .dataframe tbody tr th {\n",
       "        vertical-align: top;\n",
       "    }\n",
       "\n",
       "    .dataframe thead th {\n",
       "        text-align: right;\n",
       "    }\n",
       "</style>\n",
       "<table border=\"1\" class=\"dataframe\">\n",
       "  <thead>\n",
       "    <tr style=\"text-align: right;\">\n",
       "      <th></th>\n",
       "      <th>Store</th>\n",
       "      <th>DayOfWeek</th>\n",
       "      <th>Date</th>\n",
       "      <th>Sales</th>\n",
       "      <th>Customers</th>\n",
       "      <th>Open</th>\n",
       "      <th>Promo</th>\n",
       "      <th>StateHoliday</th>\n",
       "      <th>SchoolHoliday</th>\n",
       "    </tr>\n",
       "  </thead>\n",
       "  <tbody>\n",
       "    <tr>\n",
       "      <th>0</th>\n",
       "      <td>1</td>\n",
       "      <td>4</td>\n",
       "      <td>2015-09-17</td>\n",
       "      <td>NaN</td>\n",
       "      <td>NaN</td>\n",
       "      <td>1.0</td>\n",
       "      <td>1</td>\n",
       "      <td>0</td>\n",
       "      <td>0</td>\n",
       "    </tr>\n",
       "    <tr>\n",
       "      <th>1</th>\n",
       "      <td>3</td>\n",
       "      <td>4</td>\n",
       "      <td>2015-09-17</td>\n",
       "      <td>NaN</td>\n",
       "      <td>NaN</td>\n",
       "      <td>1.0</td>\n",
       "      <td>1</td>\n",
       "      <td>0</td>\n",
       "      <td>0</td>\n",
       "    </tr>\n",
       "    <tr>\n",
       "      <th>2</th>\n",
       "      <td>7</td>\n",
       "      <td>4</td>\n",
       "      <td>2015-09-17</td>\n",
       "      <td>NaN</td>\n",
       "      <td>NaN</td>\n",
       "      <td>1.0</td>\n",
       "      <td>1</td>\n",
       "      <td>0</td>\n",
       "      <td>0</td>\n",
       "    </tr>\n",
       "    <tr>\n",
       "      <th>3</th>\n",
       "      <td>8</td>\n",
       "      <td>4</td>\n",
       "      <td>2015-09-17</td>\n",
       "      <td>NaN</td>\n",
       "      <td>NaN</td>\n",
       "      <td>1.0</td>\n",
       "      <td>1</td>\n",
       "      <td>0</td>\n",
       "      <td>0</td>\n",
       "    </tr>\n",
       "    <tr>\n",
       "      <th>4</th>\n",
       "      <td>9</td>\n",
       "      <td>4</td>\n",
       "      <td>2015-09-17</td>\n",
       "      <td>NaN</td>\n",
       "      <td>NaN</td>\n",
       "      <td>1.0</td>\n",
       "      <td>1</td>\n",
       "      <td>0</td>\n",
       "      <td>0</td>\n",
       "    </tr>\n",
       "  </tbody>\n",
       "</table>\n",
       "</div>"
      ],
      "text/plain": [
       "   Store  DayOfWeek       Date  Sales  Customers  Open  Promo StateHoliday  \\\n",
       "0      1          4 2015-09-17    NaN        NaN   1.0      1            0   \n",
       "1      3          4 2015-09-17    NaN        NaN   1.0      1            0   \n",
       "2      7          4 2015-09-17    NaN        NaN   1.0      1            0   \n",
       "3      8          4 2015-09-17    NaN        NaN   1.0      1            0   \n",
       "4      9          4 2015-09-17    NaN        NaN   1.0      1            0   \n",
       "\n",
       "   SchoolHoliday  \n",
       "0              0  \n",
       "1              0  \n",
       "2              0  \n",
       "3              0  \n",
       "4              0  "
      ]
     },
     "execution_count": 6,
     "metadata": {},
     "output_type": "execute_result"
    }
   ],
   "source": [
    "test.head()"
   ]
  },
  {
   "cell_type": "markdown",
   "metadata": {},
   "source": [
    "The structure of the test set"
   ]
  },
  {
   "cell_type": "code",
   "execution_count": 7,
   "metadata": {
    "ExecuteTime": {
     "end_time": "2021-03-05T23:08:11.054750Z",
     "start_time": "2021-03-05T23:08:10.925829Z"
    }
   },
   "outputs": [
    {
     "name": "stdout",
     "output_type": "stream",
     "text": [
      "The number of rows and columns in the test set are: (41088, 9) \n",
      "\n",
      "<class 'pandas.core.frame.DataFrame'>\n",
      "RangeIndex: 41088 entries, 0 to 41087\n",
      "Data columns (total 9 columns):\n",
      " #   Column         Non-Null Count  Dtype         \n",
      "---  ------         --------------  -----         \n",
      " 0   Store          41088 non-null  int64         \n",
      " 1   DayOfWeek      41088 non-null  int64         \n",
      " 2   Date           41088 non-null  datetime64[ns]\n",
      " 3   Sales          0 non-null      float64       \n",
      " 4   Customers      0 non-null      float64       \n",
      " 5   Open           41077 non-null  float64       \n",
      " 6   Promo          41088 non-null  int64         \n",
      " 7   StateHoliday   41088 non-null  object        \n",
      " 8   SchoolHoliday  41088 non-null  int64         \n",
      "dtypes: datetime64[ns](1), float64(3), int64(4), object(1)\n",
      "memory usage: 2.8+ MB\n"
     ]
    }
   ],
   "source": [
    "print(\"The number of rows and columns in the test set are: {} \\n\".format(test.shape))\n",
    "test.info()"
   ]
  },
  {
   "cell_type": "markdown",
   "metadata": {},
   "source": [
    "There are a littl over 41k records in the test set. One thing to note here is that the number of attributes in both the test and the train sets are the same but the arrtributes 'Sales' and 'Customers' in the test set are all blank"
   ]
  },
  {
   "cell_type": "markdown",
   "metadata": {
    "ExecuteTime": {
     "end_time": "2021-02-26T18:56:41.903099Z",
     "start_time": "2021-02-26T18:56:41.897102Z"
    }
   },
   "source": [
    "First 5 records of the store dataset"
   ]
  },
  {
   "cell_type": "code",
   "execution_count": 44,
   "metadata": {
    "ExecuteTime": {
     "end_time": "2021-03-06T13:38:31.363878Z",
     "start_time": "2021-03-06T13:38:31.330897Z"
    },
    "scrolled": true
   },
   "outputs": [
    {
     "data": {
      "text/html": [
       "<div>\n",
       "<style scoped>\n",
       "    .dataframe tbody tr th:only-of-type {\n",
       "        vertical-align: middle;\n",
       "    }\n",
       "\n",
       "    .dataframe tbody tr th {\n",
       "        vertical-align: top;\n",
       "    }\n",
       "\n",
       "    .dataframe thead th {\n",
       "        text-align: right;\n",
       "    }\n",
       "</style>\n",
       "<table border=\"1\" class=\"dataframe\">\n",
       "  <thead>\n",
       "    <tr style=\"text-align: right;\">\n",
       "      <th></th>\n",
       "      <th>Store</th>\n",
       "      <th>StoreType</th>\n",
       "      <th>Assortment</th>\n",
       "      <th>CompetitionDistance</th>\n",
       "      <th>CompetitionOpenSinceMonth</th>\n",
       "      <th>CompetitionOpenSinceYear</th>\n",
       "      <th>Promo2</th>\n",
       "      <th>Promo2SinceWeek</th>\n",
       "      <th>Promo2SinceYear</th>\n",
       "      <th>PromoInterval</th>\n",
       "      <th>PromoInterval0</th>\n",
       "      <th>PromoInterval1</th>\n",
       "      <th>PromoInterval2</th>\n",
       "      <th>PromoInterval3</th>\n",
       "    </tr>\n",
       "  </thead>\n",
       "  <tbody>\n",
       "    <tr>\n",
       "      <th>0</th>\n",
       "      <td>1</td>\n",
       "      <td>c</td>\n",
       "      <td>a</td>\n",
       "      <td>1270.0</td>\n",
       "      <td>9.0</td>\n",
       "      <td>2008.0</td>\n",
       "      <td>0</td>\n",
       "      <td>NaN</td>\n",
       "      <td>NaN</td>\n",
       "      <td>NaN</td>\n",
       "      <td>NaN</td>\n",
       "      <td>NaN</td>\n",
       "      <td>NaN</td>\n",
       "      <td>NaN</td>\n",
       "    </tr>\n",
       "    <tr>\n",
       "      <th>1</th>\n",
       "      <td>2</td>\n",
       "      <td>a</td>\n",
       "      <td>a</td>\n",
       "      <td>570.0</td>\n",
       "      <td>11.0</td>\n",
       "      <td>2007.0</td>\n",
       "      <td>1</td>\n",
       "      <td>13.0</td>\n",
       "      <td>2010.0</td>\n",
       "      <td>Jan,Apr,Jul,Oct</td>\n",
       "      <td>Jan</td>\n",
       "      <td>Apr</td>\n",
       "      <td>Jul</td>\n",
       "      <td>Oct</td>\n",
       "    </tr>\n",
       "    <tr>\n",
       "      <th>2</th>\n",
       "      <td>3</td>\n",
       "      <td>a</td>\n",
       "      <td>a</td>\n",
       "      <td>14130.0</td>\n",
       "      <td>12.0</td>\n",
       "      <td>2006.0</td>\n",
       "      <td>1</td>\n",
       "      <td>14.0</td>\n",
       "      <td>2011.0</td>\n",
       "      <td>Jan,Apr,Jul,Oct</td>\n",
       "      <td>Jan</td>\n",
       "      <td>Apr</td>\n",
       "      <td>Jul</td>\n",
       "      <td>Oct</td>\n",
       "    </tr>\n",
       "    <tr>\n",
       "      <th>3</th>\n",
       "      <td>4</td>\n",
       "      <td>c</td>\n",
       "      <td>c</td>\n",
       "      <td>620.0</td>\n",
       "      <td>9.0</td>\n",
       "      <td>2009.0</td>\n",
       "      <td>0</td>\n",
       "      <td>NaN</td>\n",
       "      <td>NaN</td>\n",
       "      <td>NaN</td>\n",
       "      <td>NaN</td>\n",
       "      <td>NaN</td>\n",
       "      <td>NaN</td>\n",
       "      <td>NaN</td>\n",
       "    </tr>\n",
       "    <tr>\n",
       "      <th>4</th>\n",
       "      <td>5</td>\n",
       "      <td>a</td>\n",
       "      <td>a</td>\n",
       "      <td>29910.0</td>\n",
       "      <td>4.0</td>\n",
       "      <td>2015.0</td>\n",
       "      <td>0</td>\n",
       "      <td>NaN</td>\n",
       "      <td>NaN</td>\n",
       "      <td>NaN</td>\n",
       "      <td>NaN</td>\n",
       "      <td>NaN</td>\n",
       "      <td>NaN</td>\n",
       "      <td>NaN</td>\n",
       "    </tr>\n",
       "  </tbody>\n",
       "</table>\n",
       "</div>"
      ],
      "text/plain": [
       "   Store StoreType Assortment  CompetitionDistance  CompetitionOpenSinceMonth  \\\n",
       "0      1         c          a               1270.0                        9.0   \n",
       "1      2         a          a                570.0                       11.0   \n",
       "2      3         a          a              14130.0                       12.0   \n",
       "3      4         c          c                620.0                        9.0   \n",
       "4      5         a          a              29910.0                        4.0   \n",
       "\n",
       "   CompetitionOpenSinceYear  Promo2  Promo2SinceWeek  Promo2SinceYear  \\\n",
       "0                    2008.0       0              NaN              NaN   \n",
       "1                    2007.0       1             13.0           2010.0   \n",
       "2                    2006.0       1             14.0           2011.0   \n",
       "3                    2009.0       0              NaN              NaN   \n",
       "4                    2015.0       0              NaN              NaN   \n",
       "\n",
       "     PromoInterval PromoInterval0 PromoInterval1 PromoInterval2 PromoInterval3  \n",
       "0              NaN            NaN            NaN            NaN            NaN  \n",
       "1  Jan,Apr,Jul,Oct            Jan            Apr            Jul            Oct  \n",
       "2  Jan,Apr,Jul,Oct            Jan            Apr            Jul            Oct  \n",
       "3              NaN            NaN            NaN            NaN            NaN  \n",
       "4              NaN            NaN            NaN            NaN            NaN  "
      ]
     },
     "execution_count": 44,
     "metadata": {},
     "output_type": "execute_result"
    }
   ],
   "source": [
    "store.head()"
   ]
  },
  {
   "cell_type": "code",
   "execution_count": 9,
   "metadata": {
    "ExecuteTime": {
     "end_time": "2021-03-05T23:08:11.580426Z",
     "start_time": "2021-03-05T23:08:11.450510Z"
    }
   },
   "outputs": [
    {
     "name": "stdout",
     "output_type": "stream",
     "text": [
      "The number of rows and columns in the store dataset are: (1115, 10) \n",
      "\n",
      "<class 'pandas.core.frame.DataFrame'>\n",
      "RangeIndex: 1115 entries, 0 to 1114\n",
      "Data columns (total 10 columns):\n",
      " #   Column                     Non-Null Count  Dtype  \n",
      "---  ------                     --------------  -----  \n",
      " 0   Store                      1115 non-null   int64  \n",
      " 1   StoreType                  1115 non-null   object \n",
      " 2   Assortment                 1115 non-null   object \n",
      " 3   CompetitionDistance        1112 non-null   float64\n",
      " 4   CompetitionOpenSinceMonth  761 non-null    float64\n",
      " 5   CompetitionOpenSinceYear   761 non-null    float64\n",
      " 6   Promo2                     1115 non-null   int64  \n",
      " 7   Promo2SinceWeek            571 non-null    float64\n",
      " 8   Promo2SinceYear            571 non-null    float64\n",
      " 9   PromoInterval              571 non-null    object \n",
      "dtypes: float64(5), int64(2), object(3)\n",
      "memory usage: 87.2+ KB\n"
     ]
    }
   ],
   "source": [
    "print(\"The number of rows and columns in the store dataset are: {} \\n\".format(store.shape))\n",
    "store.info()"
   ]
  },
  {
   "cell_type": "markdown",
   "metadata": {},
   "source": [
    "As mentioned in the specification document, there are exactly 1115 different store captured in this data set. Although the store dataset is useless only it own, it might be helpful to integrate it with the training set to make our inputs to the model more robust. \n",
    "\n",
    "I have been told that the accuracy of the model is as good as the data that goes into it. Garbage-in-garbage-out."
   ]
  },
  {
   "cell_type": "markdown",
   "metadata": {},
   "source": [
    "#### Exploratory Data Analysis"
   ]
  },
  {
   "cell_type": "code",
   "execution_count": 10,
   "metadata": {
    "ExecuteTime": {
     "end_time": "2021-03-05T23:08:14.577559Z",
     "start_time": "2021-03-05T23:08:11.590418Z"
    }
   },
   "outputs": [
    {
     "data": {
      "text/plain": [
       "Text(0.5, 1.0, 'A snapshot of how many stores are open/closed on each day of the week')"
      ]
     },
     "execution_count": 10,
     "metadata": {},
     "output_type": "execute_result"
    },
    {
     "data": {
      "image/png": "[encoded data removed]",
      "text/plain": [
       "<Figure size 1080x360 with 1 Axes>"
      ]
     },
     "metadata": {
      "needs_background": "light"
     },
     "output_type": "display_data"
    }
   ],
   "source": [
    "plt.subplots(figsize=(15,5))\n",
    "sns.countplot(data=train, x='Open', hue='DayOfWeek', palette=\"Set2\")\n",
    "plt.title(\"A snapshot of how many stores are open/closed on each day of the week\")"
   ]
  },
  {
   "cell_type": "markdown",
   "metadata": {},
   "source": [
    "Here we can see that most stores are closed on Sundays. This may a trivial detail but this might help us in gaining insights and deduce information about those small number of store that are indeed open on Sundays"
   ]
  },
  {
   "cell_type": "code",
   "execution_count": 11,
   "metadata": {
    "ExecuteTime": {
     "end_time": "2021-03-05T23:08:48.432558Z",
     "start_time": "2021-03-05T23:08:14.584551Z"
    },
    "scrolled": false
   },
   "outputs": [
    {
     "data": {
      "text/plain": [
       "Text(0.5, 1.0, 'Average sales for each day of the week')"
      ]
     },
     "execution_count": 11,
     "metadata": {},
     "output_type": "execute_result"
    },
    {
     "data": {
      "image/png": "[encoded data removed]",
      "text/plain": [
       "<Figure size 1080x360 with 1 Axes>"
      ]
     },
     "metadata": {
      "needs_background": "light"
     },
     "output_type": "display_data"
    }
   ],
   "source": [
    "plt.subplots(figsize=(15,5))\n",
    "sns.barplot(data=train, x='DayOfWeek', y='Sales', order=[1,2,3,4,5,6,7])\n",
    "plt.title(\"Average sales for each day of the week\")"
   ]
  },
  {
   "cell_type": "markdown",
   "metadata": {},
   "source": [
    "The plots above depicts the overall sales for each day of the week. It is evident that the sales are lowest on Sundays and highest on Mondays. One major reason for the low sales on Sundays is the fact that most stores are closed on that day. And the reason why Monday witnesses the most sales might be because it follows right after Sunday and/or because it's the first day of the week. Many people visit pharmacies as part of their weekly chores/grocery shopping."
   ]
  },
  {
   "cell_type": "code",
   "execution_count": 12,
   "metadata": {
    "ExecuteTime": {
     "end_time": "2021-03-05T23:09:38.180699Z",
     "start_time": "2021-03-05T23:08:48.439552Z"
    }
   },
   "outputs": [
    {
     "data": {
      "text/plain": [
       "Text(0.5, 1.0, 'Average sales with and without a promotion')"
      ]
     },
     "execution_count": 12,
     "metadata": {},
     "output_type": "execute_result"
    },
    {
     "data": {
      "image/png": "[encoded data removed]",
      "text/plain": [
       "<Figure size 360x360 with 1 Axes>"
      ]
     },
     "metadata": {
      "needs_background": "light"
     },
     "output_type": "display_data"
    }
   ],
   "source": [
    "plt.subplots(figsize=(5,5))\n",
    "sns.barplot(data=train, x='Promo', y='Sales')\n",
    "plt.title(\"Average sales with and without a promotion\")"
   ]
  },
  {
   "cell_type": "markdown",
   "metadata": {},
   "source": [
    "It's quite obvious that the sales during a promotion will be higher than during the absence of a promotion, but what's important to note here is the fact that the sales almost double during promotion times. With this in mind, the store managers can double the their stock and man-power during promotions for frictionless management."
   ]
  },
  {
   "cell_type": "code",
   "execution_count": 13,
   "metadata": {
    "ExecuteTime": {
     "end_time": "2021-03-05T23:10:29.663767Z",
     "start_time": "2021-03-05T23:09:38.183700Z"
    }
   },
   "outputs": [
    {
     "data": {
      "text/plain": [
       "Text(0.5, 1.0, 'Average sales across each of the state holidays')"
      ]
     },
     "execution_count": 13,
     "metadata": {},
     "output_type": "execute_result"
    },
    {
     "data": {
      "image/png": "[encoded data removed]",
      "text/plain": [
       "<Figure size 1080x288 with 1 Axes>"
      ]
     },
     "metadata": {
      "needs_background": "light"
     },
     "output_type": "display_data"
    }
   ],
   "source": [
    "plt.subplots(figsize=(15,4))\n",
    "ax = sns.barplot(data=train, x='StateHoliday', y='Sales')\n",
    "plt.title(\"Average sales across each of the state holidays\")\n",
    "# for p in ax.patches:\n",
    "#     ax.annotate(format(p.get_height(), '.1f'), \n",
    "#                    (p.get_x() + p.get_width() / 2., p.get_height()), \n",
    "#                    ha = 'center', va = 'center', \n",
    "#                    size=15,\n",
    "#                    xytext = (0, -12), \n",
    "#                    textcoords = 'offset points')"
   ]
  },
  {
   "cell_type": "code",
   "execution_count": 14,
   "metadata": {
    "ExecuteTime": {
     "end_time": "2021-03-05T23:10:29.715738Z",
     "start_time": "2021-03-05T23:10:29.665768Z"
    }
   },
   "outputs": [
    {
     "data": {
      "text/plain": [
       "array(['0', 'a', 'b', 'c', 0], dtype=object)"
      ]
     },
     "execution_count": 14,
     "metadata": {},
     "output_type": "execute_result"
    }
   ],
   "source": [
    "train.StateHoliday.unique()"
   ]
  },
  {
   "cell_type": "markdown",
   "metadata": {},
   "source": [
    "The plot of sales against State Holidays reveals 3 things: \n",
    "\n",
    "    1. There are 2 types of 0 values in the dataset. One being a string and another being an int value.\n",
    "    2. Sales on all the three types of holidays (public holiday, Easter, and Christmas) is almost the same.\n",
    "    3. Sales during non-holidays are significantly more than during holidays\n",
    "    \n",
    "Based on this observation and as a way to clean up this inconsistency in the data, we can combine the entries with both 0 values (int and string) into one and also combine the entries of all 3 store types into one. This way we can visualize the sales data on State Holidays as a whole\n",
    "\n",
    "For this, I have introduced a new feature called \"StateHoliday_combined\" with 2 possible values, 0 = No state holiday and 1 = Some state holiday. We can later chose to drop on of the 2 state holiday columns depending on which one is more relevant"
   ]
  },
  {
   "cell_type": "code",
   "execution_count": 15,
   "metadata": {
    "ExecuteTime": {
     "end_time": "2021-03-05T23:10:29.935603Z",
     "start_time": "2021-03-05T23:10:29.718734Z"
    }
   },
   "outputs": [],
   "source": [
    "# Combine entires related to both 0's (int and string) into one\n",
    "# Combine entries related to all 3 types of stores (a, b, and c) into one\n",
    "train[\"StateHoliday_combined\"] = train[\"StateHoliday\"].map({0: 0, \"0\": 0, \"a\": 1, \"b\": 1, \"c\": 1})"
   ]
  },
  {
   "cell_type": "code",
   "execution_count": 16,
   "metadata": {
    "ExecuteTime": {
     "end_time": "2021-03-05T23:12:08.724334Z",
     "start_time": "2021-03-05T23:10:29.938598Z"
    }
   },
   "outputs": [
    {
     "data": {
      "text/plain": [
       "Text(0.5, 1.0, 'Average sales during school holidays')"
      ]
     },
     "execution_count": 16,
     "metadata": {},
     "output_type": "execute_result"
    },
    {
     "data": {
      "image/png": "[encoded data removed]",
      "text/plain": [
       "<Figure size 1080x288 with 2 Axes>"
      ]
     },
     "metadata": {
      "needs_background": "light"
     },
     "output_type": "display_data"
    }
   ],
   "source": [
    "fig, (axis1,axis2) = plt.subplots(1,2,figsize=(15,4))\n",
    "\n",
    "# ax1 = sns.countplot(x='StateHoliday_combined', data=train, ax=axis1)\n",
    "ax1 = sns.barplot(x='StateHoliday_combined', y='Sales', data=train, ax=axis1)\n",
    "ax1.ticklabel_format(style='plain', axis='y')\n",
    "# ax1.axis(ymin=0,ymax=(train[\"Sales\"].mean() + (train[\"Sales\"].mean()*0.1)))\n",
    "annotate_plot(ax1, \"Sales\")\n",
    "ax1.set_title(\"Average sales during state holidays (aggregated)\")\n",
    "\n",
    "# ax2 = sns.countplot(x='SchoolHoliday', data=train, ax=axis2)\n",
    "ax2 = sns.barplot(x='SchoolHoliday', y='Sales', data=train, ax=axis2)\n",
    "ax2.ticklabel_format(style='plain', axis='y')\n",
    "# ax2.axis(ymin=0,ymax=(train[\"Sales\"].mean() + (train[\"Sales\"].mean()*0.1)))\n",
    "annotate_plot(ax2, \"Sales\")\n",
    "plt.title(\"Average sales during school holidays\")"
   ]
  },
  {
   "cell_type": "markdown",
   "metadata": {},
   "source": [
    "Since most stores are closed during state holidays, it goes without says that sales during these holidays will significantly less. On the other hand, sales during school holidays are relatively higher compared to non-school holidays. Since there is no indication that the stores were closed during school holidays it is safe to assume that most stores were open during school holidays."
   ]
  },
  {
   "cell_type": "code",
   "execution_count": 17,
   "metadata": {
    "ExecuteTime": {
     "end_time": "2021-03-05T23:12:09.255018Z",
     "start_time": "2021-03-05T23:12:08.731332Z"
    }
   },
   "outputs": [],
   "source": [
    "#Extracting some date features for analysis.\n",
    "train['Year'] = train['Date'].dt.year\n",
    "train['Month'] = train['Date'].dt.month\n",
    "train['Day'] = train['Date'].dt.day\n",
    "train['WeekOfYear'] = train['Date'].dt.isocalendar().week"
   ]
  },
  {
   "cell_type": "code",
   "execution_count": 18,
   "metadata": {
    "ExecuteTime": {
     "end_time": "2021-03-05T23:12:09.333952Z",
     "start_time": "2021-03-05T23:12:09.257001Z"
    }
   },
   "outputs": [
    {
     "data": {
      "text/html": [
       "<div>\n",
       "<style scoped>\n",
       "    .dataframe tbody tr th:only-of-type {\n",
       "        vertical-align: middle;\n",
       "    }\n",
       "\n",
       "    .dataframe tbody tr th {\n",
       "        vertical-align: top;\n",
       "    }\n",
       "\n",
       "    .dataframe thead th {\n",
       "        text-align: right;\n",
       "    }\n",
       "</style>\n",
       "<table border=\"1\" class=\"dataframe\">\n",
       "  <thead>\n",
       "    <tr style=\"text-align: right;\">\n",
       "      <th></th>\n",
       "      <th>Store</th>\n",
       "      <th>DayOfWeek</th>\n",
       "      <th>Date</th>\n",
       "      <th>Sales</th>\n",
       "      <th>Customers</th>\n",
       "      <th>Open</th>\n",
       "      <th>Promo</th>\n",
       "      <th>StateHoliday</th>\n",
       "      <th>SchoolHoliday</th>\n",
       "      <th>StateHoliday_combined</th>\n",
       "      <th>Year</th>\n",
       "      <th>Month</th>\n",
       "      <th>Day</th>\n",
       "      <th>WeekOfYear</th>\n",
       "    </tr>\n",
       "  </thead>\n",
       "  <tbody>\n",
       "    <tr>\n",
       "      <th>0</th>\n",
       "      <td>1</td>\n",
       "      <td>5</td>\n",
       "      <td>2015-07-31</td>\n",
       "      <td>5263</td>\n",
       "      <td>555</td>\n",
       "      <td>1</td>\n",
       "      <td>1</td>\n",
       "      <td>0</td>\n",
       "      <td>1</td>\n",
       "      <td>0</td>\n",
       "      <td>2015</td>\n",
       "      <td>7</td>\n",
       "      <td>31</td>\n",
       "      <td>31</td>\n",
       "    </tr>\n",
       "    <tr>\n",
       "      <th>1</th>\n",
       "      <td>2</td>\n",
       "      <td>5</td>\n",
       "      <td>2015-07-31</td>\n",
       "      <td>6064</td>\n",
       "      <td>625</td>\n",
       "      <td>1</td>\n",
       "      <td>1</td>\n",
       "      <td>0</td>\n",
       "      <td>1</td>\n",
       "      <td>0</td>\n",
       "      <td>2015</td>\n",
       "      <td>7</td>\n",
       "      <td>31</td>\n",
       "      <td>31</td>\n",
       "    </tr>\n",
       "    <tr>\n",
       "      <th>2</th>\n",
       "      <td>3</td>\n",
       "      <td>5</td>\n",
       "      <td>2015-07-31</td>\n",
       "      <td>8314</td>\n",
       "      <td>821</td>\n",
       "      <td>1</td>\n",
       "      <td>1</td>\n",
       "      <td>0</td>\n",
       "      <td>1</td>\n",
       "      <td>0</td>\n",
       "      <td>2015</td>\n",
       "      <td>7</td>\n",
       "      <td>31</td>\n",
       "      <td>31</td>\n",
       "    </tr>\n",
       "    <tr>\n",
       "      <th>3</th>\n",
       "      <td>4</td>\n",
       "      <td>5</td>\n",
       "      <td>2015-07-31</td>\n",
       "      <td>13995</td>\n",
       "      <td>1498</td>\n",
       "      <td>1</td>\n",
       "      <td>1</td>\n",
       "      <td>0</td>\n",
       "      <td>1</td>\n",
       "      <td>0</td>\n",
       "      <td>2015</td>\n",
       "      <td>7</td>\n",
       "      <td>31</td>\n",
       "      <td>31</td>\n",
       "    </tr>\n",
       "    <tr>\n",
       "      <th>4</th>\n",
       "      <td>5</td>\n",
       "      <td>5</td>\n",
       "      <td>2015-07-31</td>\n",
       "      <td>4822</td>\n",
       "      <td>559</td>\n",
       "      <td>1</td>\n",
       "      <td>1</td>\n",
       "      <td>0</td>\n",
       "      <td>1</td>\n",
       "      <td>0</td>\n",
       "      <td>2015</td>\n",
       "      <td>7</td>\n",
       "      <td>31</td>\n",
       "      <td>31</td>\n",
       "    </tr>\n",
       "    <tr>\n",
       "      <th>...</th>\n",
       "      <td>...</td>\n",
       "      <td>...</td>\n",
       "      <td>...</td>\n",
       "      <td>...</td>\n",
       "      <td>...</td>\n",
       "      <td>...</td>\n",
       "      <td>...</td>\n",
       "      <td>...</td>\n",
       "      <td>...</td>\n",
       "      <td>...</td>\n",
       "      <td>...</td>\n",
       "      <td>...</td>\n",
       "      <td>...</td>\n",
       "      <td>...</td>\n",
       "    </tr>\n",
       "    <tr>\n",
       "      <th>1017204</th>\n",
       "      <td>1111</td>\n",
       "      <td>2</td>\n",
       "      <td>2013-01-01</td>\n",
       "      <td>0</td>\n",
       "      <td>0</td>\n",
       "      <td>0</td>\n",
       "      <td>0</td>\n",
       "      <td>a</td>\n",
       "      <td>1</td>\n",
       "      <td>1</td>\n",
       "      <td>2013</td>\n",
       "      <td>1</td>\n",
       "      <td>1</td>\n",
       "      <td>1</td>\n",
       "    </tr>\n",
       "    <tr>\n",
       "      <th>1017205</th>\n",
       "      <td>1112</td>\n",
       "      <td>2</td>\n",
       "      <td>2013-01-01</td>\n",
       "      <td>0</td>\n",
       "      <td>0</td>\n",
       "      <td>0</td>\n",
       "      <td>0</td>\n",
       "      <td>a</td>\n",
       "      <td>1</td>\n",
       "      <td>1</td>\n",
       "      <td>2013</td>\n",
       "      <td>1</td>\n",
       "      <td>1</td>\n",
       "      <td>1</td>\n",
       "    </tr>\n",
       "    <tr>\n",
       "      <th>1017206</th>\n",
       "      <td>1113</td>\n",
       "      <td>2</td>\n",
       "      <td>2013-01-01</td>\n",
       "      <td>0</td>\n",
       "      <td>0</td>\n",
       "      <td>0</td>\n",
       "      <td>0</td>\n",
       "      <td>a</td>\n",
       "      <td>1</td>\n",
       "      <td>1</td>\n",
       "      <td>2013</td>\n",
       "      <td>1</td>\n",
       "      <td>1</td>\n",
       "      <td>1</td>\n",
       "    </tr>\n",
       "    <tr>\n",
       "      <th>1017207</th>\n",
       "      <td>1114</td>\n",
       "      <td>2</td>\n",
       "      <td>2013-01-01</td>\n",
       "      <td>0</td>\n",
       "      <td>0</td>\n",
       "      <td>0</td>\n",
       "      <td>0</td>\n",
       "      <td>a</td>\n",
       "      <td>1</td>\n",
       "      <td>1</td>\n",
       "      <td>2013</td>\n",
       "      <td>1</td>\n",
       "      <td>1</td>\n",
       "      <td>1</td>\n",
       "    </tr>\n",
       "    <tr>\n",
       "      <th>1017208</th>\n",
       "      <td>1115</td>\n",
       "      <td>2</td>\n",
       "      <td>2013-01-01</td>\n",
       "      <td>0</td>\n",
       "      <td>0</td>\n",
       "      <td>0</td>\n",
       "      <td>0</td>\n",
       "      <td>a</td>\n",
       "      <td>1</td>\n",
       "      <td>1</td>\n",
       "      <td>2013</td>\n",
       "      <td>1</td>\n",
       "      <td>1</td>\n",
       "      <td>1</td>\n",
       "    </tr>\n",
       "  </tbody>\n",
       "</table>\n",
       "<p>1017209 rows × 14 columns</p>\n",
       "</div>"
      ],
      "text/plain": [
       "         Store  DayOfWeek       Date  Sales  Customers  Open  Promo  \\\n",
       "0            1          5 2015-07-31   5263        555     1      1   \n",
       "1            2          5 2015-07-31   6064        625     1      1   \n",
       "2            3          5 2015-07-31   8314        821     1      1   \n",
       "3            4          5 2015-07-31  13995       1498     1      1   \n",
       "4            5          5 2015-07-31   4822        559     1      1   \n",
       "...        ...        ...        ...    ...        ...   ...    ...   \n",
       "1017204   1111          2 2013-01-01      0          0     0      0   \n",
       "1017205   1112          2 2013-01-01      0          0     0      0   \n",
       "1017206   1113          2 2013-01-01      0          0     0      0   \n",
       "1017207   1114          2 2013-01-01      0          0     0      0   \n",
       "1017208   1115          2 2013-01-01      0          0     0      0   \n",
       "\n",
       "        StateHoliday  SchoolHoliday  StateHoliday_combined  Year  Month  Day  \\\n",
       "0                  0              1                      0  2015      7   31   \n",
       "1                  0              1                      0  2015      7   31   \n",
       "2                  0              1                      0  2015      7   31   \n",
       "3                  0              1                      0  2015      7   31   \n",
       "4                  0              1                      0  2015      7   31   \n",
       "...              ...            ...                    ...   ...    ...  ...   \n",
       "1017204            a              1                      1  2013      1    1   \n",
       "1017205            a              1                      1  2013      1    1   \n",
       "1017206            a              1                      1  2013      1    1   \n",
       "1017207            a              1                      1  2013      1    1   \n",
       "1017208            a              1                      1  2013      1    1   \n",
       "\n",
       "         WeekOfYear  \n",
       "0                31  \n",
       "1                31  \n",
       "2                31  \n",
       "3                31  \n",
       "4                31  \n",
       "...             ...  \n",
       "1017204           1  \n",
       "1017205           1  \n",
       "1017206           1  \n",
       "1017207           1  \n",
       "1017208           1  \n",
       "\n",
       "[1017209 rows x 14 columns]"
      ]
     },
     "execution_count": 18,
     "metadata": {},
     "output_type": "execute_result"
    }
   ],
   "source": [
    "train"
   ]
  },
  {
   "cell_type": "code",
   "execution_count": 19,
   "metadata": {
    "ExecuteTime": {
     "end_time": "2021-03-05T23:12:20.886138Z",
     "start_time": "2021-03-05T23:12:09.336952Z"
    }
   },
   "outputs": [
    {
     "data": {
      "image/png": "[encoded data removed]",
      "text/plain": [
       "<Figure size 1080x432 with 2 Axes>"
      ]
     },
     "metadata": {
      "needs_background": "light"
     },
     "output_type": "display_data"
    }
   ],
   "source": [
    "avg_sales    = train.groupby('WeekOfYear')[\"Sales\"].mean()\n",
    "percent_change_sales = train.groupby('WeekOfYear')[\"Sales\"].sum().pct_change()\n",
    "fig, (axis1,axis2) = plt.subplots(2, 1, figsize=(15,6))\n",
    "\n",
    "ax1 = avg_sales.plot(legend=True, ax=axis1, marker='o', colormap=\"summer\", \n",
    "                         title=\"Average Sales Per Week.\")\n",
    "ax1.set_xticks(range(len(avg_sales)))\n",
    "ax1.set_xticklabels(avg_sales.index.tolist())\n",
    "ax1.set_ylabel('Sales', size=12)\n",
    "\n",
    "ax2 = percent_change_sales.plot(legend=True, ax=axis2, marker='o', colormap=\"spring\", \n",
    "                            title=\"Sales Percent Change Per Week.\")\n",
    "ax2.set_xticks(range(len(avg_sales)))\n",
    "ax2.set_xticklabels(avg_sales.index.tolist())\n",
    "plt.ylabel(\"Sales\", size=12)\n",
    "plt.xlabel('Week Of Year', size=12)\n",
    "fig.tight_layout()"
   ]
  },
  {
   "cell_type": "markdown",
   "metadata": {},
   "source": [
    "The first insight that jumps out of the above plot is the, somewhat, obvious spike in sales during the last week of the week which also happens to be the week of Christmas/New Year. This spike may be due to the fact that people shop for gifts around this time and more often than not people tend indulge during the holiday season."
   ]
  },
  {
   "cell_type": "code",
   "execution_count": 20,
   "metadata": {
    "ExecuteTime": {
     "end_time": "2021-03-05T23:12:24.654801Z",
     "start_time": "2021-03-05T23:12:20.947104Z"
    }
   },
   "outputs": [
    {
     "data": {
      "text/plain": [
       "Text(0, 0.5, 'Promo counts')"
      ]
     },
     "execution_count": 20,
     "metadata": {},
     "output_type": "execute_result"
    },
    {
     "data": {
      "image/png": "[encoded data removed]",
      "text/plain": [
       "<Figure size 1080x432 with 1 Axes>"
      ]
     },
     "metadata": {
      "needs_background": "light"
     },
     "output_type": "display_data"
    }
   ],
   "source": [
    "promo_counts = train.groupby('WeekOfYear')[\"Promo\"].sum()\n",
    "\n",
    "plt.subplots(figsize=(15,6))\n",
    "\n",
    "ax1 = promo_counts.plot(legend=True, marker='o', colormap=\"summer\", \n",
    "                         title=\"Number of promotions Per Week.\")\n",
    "ax1.set_xticks(range(len(promo_counts)))\n",
    "ax1.set_xticklabels(promo_counts.index.tolist())\n",
    "ax1.set_ylabel('Promo counts', size=12)"
   ]
  },
  {
   "cell_type": "markdown",
   "metadata": {
    "ExecuteTime": {
     "end_time": "2021-02-27T01:24:40.777536Z",
     "start_time": "2021-02-27T01:24:40.766538Z"
    }
   },
   "source": [
    "*** Revist this plot again to make sense of it"
   ]
  },
  {
   "cell_type": "markdown",
   "metadata": {},
   "source": [
    "#### Integrating the train and store datasets"
   ]
  },
  {
   "cell_type": "markdown",
   "metadata": {},
   "source": [
    "We combine the 2 datasets using the 'Store' attribute as the key."
   ]
  },
  {
   "cell_type": "code",
   "execution_count": 21,
   "metadata": {
    "ExecuteTime": {
     "end_time": "2021-03-05T23:12:25.205460Z",
     "start_time": "2021-03-05T23:12:24.657798Z"
    }
   },
   "outputs": [],
   "source": [
    "s = store['PromoInterval'].str.split(',').apply(pd.Series, 1)\n",
    "s.columns = ['PromoInterval0', 'PromoInterval1', 'PromoInterval2', 'PromoInterval3']\n",
    "store = store.join(s)"
   ]
  },
  {
   "cell_type": "code",
   "execution_count": 22,
   "metadata": {
    "ExecuteTime": {
     "end_time": "2021-03-05T23:12:27.028313Z",
     "start_time": "2021-03-05T23:12:25.208457Z"
    }
   },
   "outputs": [
    {
     "data": {
      "text/html": [
       "<div>\n",
       "<style scoped>\n",
       "    .dataframe tbody tr th:only-of-type {\n",
       "        vertical-align: middle;\n",
       "    }\n",
       "\n",
       "    .dataframe tbody tr th {\n",
       "        vertical-align: top;\n",
       "    }\n",
       "\n",
       "    .dataframe thead th {\n",
       "        text-align: right;\n",
       "    }\n",
       "</style>\n",
       "<table border=\"1\" class=\"dataframe\">\n",
       "  <thead>\n",
       "    <tr style=\"text-align: right;\">\n",
       "      <th></th>\n",
       "      <th>Store</th>\n",
       "      <th>DayOfWeek</th>\n",
       "      <th>Date</th>\n",
       "      <th>Sales</th>\n",
       "      <th>Customers</th>\n",
       "      <th>Open</th>\n",
       "      <th>Promo</th>\n",
       "      <th>StateHoliday</th>\n",
       "      <th>SchoolHoliday</th>\n",
       "      <th>StateHoliday_combined</th>\n",
       "      <th>...</th>\n",
       "      <th>CompetitionOpenSinceMonth</th>\n",
       "      <th>CompetitionOpenSinceYear</th>\n",
       "      <th>Promo2</th>\n",
       "      <th>Promo2SinceWeek</th>\n",
       "      <th>Promo2SinceYear</th>\n",
       "      <th>PromoInterval</th>\n",
       "      <th>PromoInterval0</th>\n",
       "      <th>PromoInterval1</th>\n",
       "      <th>PromoInterval2</th>\n",
       "      <th>PromoInterval3</th>\n",
       "    </tr>\n",
       "  </thead>\n",
       "  <tbody>\n",
       "    <tr>\n",
       "      <th>0</th>\n",
       "      <td>1</td>\n",
       "      <td>5</td>\n",
       "      <td>2015-07-31</td>\n",
       "      <td>5263</td>\n",
       "      <td>555</td>\n",
       "      <td>1</td>\n",
       "      <td>1</td>\n",
       "      <td>0</td>\n",
       "      <td>1</td>\n",
       "      <td>0</td>\n",
       "      <td>...</td>\n",
       "      <td>9.0</td>\n",
       "      <td>2008.0</td>\n",
       "      <td>0</td>\n",
       "      <td>NaN</td>\n",
       "      <td>NaN</td>\n",
       "      <td>NaN</td>\n",
       "      <td>NaN</td>\n",
       "      <td>NaN</td>\n",
       "      <td>NaN</td>\n",
       "      <td>NaN</td>\n",
       "    </tr>\n",
       "    <tr>\n",
       "      <th>1</th>\n",
       "      <td>2</td>\n",
       "      <td>5</td>\n",
       "      <td>2015-07-31</td>\n",
       "      <td>6064</td>\n",
       "      <td>625</td>\n",
       "      <td>1</td>\n",
       "      <td>1</td>\n",
       "      <td>0</td>\n",
       "      <td>1</td>\n",
       "      <td>0</td>\n",
       "      <td>...</td>\n",
       "      <td>11.0</td>\n",
       "      <td>2007.0</td>\n",
       "      <td>1</td>\n",
       "      <td>13.0</td>\n",
       "      <td>2010.0</td>\n",
       "      <td>Jan,Apr,Jul,Oct</td>\n",
       "      <td>Jan</td>\n",
       "      <td>Apr</td>\n",
       "      <td>Jul</td>\n",
       "      <td>Oct</td>\n",
       "    </tr>\n",
       "    <tr>\n",
       "      <th>2</th>\n",
       "      <td>3</td>\n",
       "      <td>5</td>\n",
       "      <td>2015-07-31</td>\n",
       "      <td>8314</td>\n",
       "      <td>821</td>\n",
       "      <td>1</td>\n",
       "      <td>1</td>\n",
       "      <td>0</td>\n",
       "      <td>1</td>\n",
       "      <td>0</td>\n",
       "      <td>...</td>\n",
       "      <td>12.0</td>\n",
       "      <td>2006.0</td>\n",
       "      <td>1</td>\n",
       "      <td>14.0</td>\n",
       "      <td>2011.0</td>\n",
       "      <td>Jan,Apr,Jul,Oct</td>\n",
       "      <td>Jan</td>\n",
       "      <td>Apr</td>\n",
       "      <td>Jul</td>\n",
       "      <td>Oct</td>\n",
       "    </tr>\n",
       "    <tr>\n",
       "      <th>3</th>\n",
       "      <td>4</td>\n",
       "      <td>5</td>\n",
       "      <td>2015-07-31</td>\n",
       "      <td>13995</td>\n",
       "      <td>1498</td>\n",
       "      <td>1</td>\n",
       "      <td>1</td>\n",
       "      <td>0</td>\n",
       "      <td>1</td>\n",
       "      <td>0</td>\n",
       "      <td>...</td>\n",
       "      <td>9.0</td>\n",
       "      <td>2009.0</td>\n",
       "      <td>0</td>\n",
       "      <td>NaN</td>\n",
       "      <td>NaN</td>\n",
       "      <td>NaN</td>\n",
       "      <td>NaN</td>\n",
       "      <td>NaN</td>\n",
       "      <td>NaN</td>\n",
       "      <td>NaN</td>\n",
       "    </tr>\n",
       "    <tr>\n",
       "      <th>4</th>\n",
       "      <td>5</td>\n",
       "      <td>5</td>\n",
       "      <td>2015-07-31</td>\n",
       "      <td>4822</td>\n",
       "      <td>559</td>\n",
       "      <td>1</td>\n",
       "      <td>1</td>\n",
       "      <td>0</td>\n",
       "      <td>1</td>\n",
       "      <td>0</td>\n",
       "      <td>...</td>\n",
       "      <td>4.0</td>\n",
       "      <td>2015.0</td>\n",
       "      <td>0</td>\n",
       "      <td>NaN</td>\n",
       "      <td>NaN</td>\n",
       "      <td>NaN</td>\n",
       "      <td>NaN</td>\n",
       "      <td>NaN</td>\n",
       "      <td>NaN</td>\n",
       "      <td>NaN</td>\n",
       "    </tr>\n",
       "  </tbody>\n",
       "</table>\n",
       "<p>5 rows × 27 columns</p>\n",
       "</div>"
      ],
      "text/plain": [
       "   Store  DayOfWeek       Date  Sales  Customers  Open  Promo StateHoliday  \\\n",
       "0      1          5 2015-07-31   5263        555     1      1            0   \n",
       "1      2          5 2015-07-31   6064        625     1      1            0   \n",
       "2      3          5 2015-07-31   8314        821     1      1            0   \n",
       "3      4          5 2015-07-31  13995       1498     1      1            0   \n",
       "4      5          5 2015-07-31   4822        559     1      1            0   \n",
       "\n",
       "   SchoolHoliday  StateHoliday_combined  ...  CompetitionOpenSinceMonth  \\\n",
       "0              1                      0  ...                        9.0   \n",
       "1              1                      0  ...                       11.0   \n",
       "2              1                      0  ...                       12.0   \n",
       "3              1                      0  ...                        9.0   \n",
       "4              1                      0  ...                        4.0   \n",
       "\n",
       "   CompetitionOpenSinceYear  Promo2  Promo2SinceWeek Promo2SinceYear  \\\n",
       "0                    2008.0       0              NaN             NaN   \n",
       "1                    2007.0       1             13.0          2010.0   \n",
       "2                    2006.0       1             14.0          2011.0   \n",
       "3                    2009.0       0              NaN             NaN   \n",
       "4                    2015.0       0              NaN             NaN   \n",
       "\n",
       "     PromoInterval  PromoInterval0  PromoInterval1  PromoInterval2  \\\n",
       "0              NaN             NaN             NaN             NaN   \n",
       "1  Jan,Apr,Jul,Oct             Jan             Apr             Jul   \n",
       "2  Jan,Apr,Jul,Oct             Jan             Apr             Jul   \n",
       "3              NaN             NaN             NaN             NaN   \n",
       "4              NaN             NaN             NaN             NaN   \n",
       "\n",
       "   PromoInterval3  \n",
       "0             NaN  \n",
       "1             Oct  \n",
       "2             Oct  \n",
       "3             NaN  \n",
       "4             NaN  \n",
       "\n",
       "[5 rows x 27 columns]"
      ]
     },
     "execution_count": 22,
     "metadata": {},
     "output_type": "execute_result"
    }
   ],
   "source": [
    "combined_datasets = pd.merge(train, store, how='left', on='Store')\n",
    "combined_datasets.head()"
   ]
  },
  {
   "cell_type": "code",
   "execution_count": 23,
   "metadata": {
    "ExecuteTime": {
     "end_time": "2021-03-05T23:12:27.038309Z",
     "start_time": "2021-03-05T23:12:27.031311Z"
    }
   },
   "outputs": [
    {
     "data": {
      "text/plain": [
       "(1017209, 27)"
      ]
     },
     "execution_count": 23,
     "metadata": {},
     "output_type": "execute_result"
    }
   ],
   "source": [
    "combined_datasets.shape"
   ]
  },
  {
   "cell_type": "markdown",
   "metadata": {},
   "source": [
    "After combining the datasets, we get a new dataset of 23 columns with the same number of records."
   ]
  },
  {
   "cell_type": "code",
   "execution_count": 55,
   "metadata": {
    "ExecuteTime": {
     "end_time": "2021-03-06T14:57:52.226703Z",
     "start_time": "2021-03-06T14:57:20.485360Z"
    }
   },
   "outputs": [
    {
     "data": {
      "text/plain": [
       "Text(0.5, 1.0, 'Average sales with and without an ongoing promotion (Promo2)')"
      ]
     },
     "execution_count": 55,
     "metadata": {},
     "output_type": "execute_result"
    },
    {
     "data": {
      "image/png": "[encoded data removed]",
      "text/plain": [
       "<Figure size 432x288 with 1 Axes>"
      ]
     },
     "metadata": {
      "needs_background": "light"
     },
     "output_type": "display_data"
    }
   ],
   "source": [
    "sns.barplot(combined_datasets['Promo2'], y=combined_datasets['Sales'])\n",
    "plt.title(\"Average sales with and without an ongoing promotion (Promo2)\")"
   ]
  },
  {
   "cell_type": "markdown",
   "metadata": {},
   "source": [
    "The plot above reveals that the average sales for stores that did participate in Promo2 are higher than those store that didn't participate. Let's find out what is difference in revenue generated by stores with/without participating in Promo2"
   ]
  },
  {
   "cell_type": "code",
   "execution_count": 25,
   "metadata": {
    "ExecuteTime": {
     "end_time": "2021-03-05T23:13:11.343831Z",
     "start_time": "2021-03-05T23:13:11.239892Z"
    }
   },
   "outputs": [
    {
     "data": {
      "text/plain": [
       "Promo2\n",
       "0    508031\n",
       "1    509178\n",
       "Name: StoreType, dtype: int64"
      ]
     },
     "execution_count": 25,
     "metadata": {},
     "output_type": "execute_result"
    }
   ],
   "source": [
    "combined_datasets.groupby('Promo2')['StoreType'].count()"
   ]
  },
  {
   "cell_type": "code",
   "execution_count": 59,
   "metadata": {
    "ExecuteTime": {
     "end_time": "2021-03-06T15:01:58.046286Z",
     "start_time": "2021-03-06T15:01:57.687513Z"
    }
   },
   "outputs": [
    {
     "name": "stdout",
     "output_type": "stream",
     "text": [
      "The difference in the revenue generated by stores no Promo2 and sales with Promo2 is 349904633\n"
     ]
    }
   ],
   "source": [
    "non_participating_store_sales_total = combined_datasets.loc[combined_datasets['Promo2']==0]['Sales'].sum()\n",
    "participating_store_sales_total = combined_datasets.loc[combined_datasets['Promo2']==1]['Sales'].sum()\n",
    "revenue_difference = non_participating_store_sales_total - participating_store_sales_total\n",
    "print(\"The difference in the revenue generated by stores no Promo2 and sales with Promo2 is {}\"\n",
    "      .format(revenue_difference))"
   ]
  },
  {
   "cell_type": "markdown",
   "metadata": {},
   "source": [
    "As you can, the difference between stores that particapted in Promo2 vs stores that didn't, is a whopping 349.90 million. It seems to be the case that stores that didn't participate in Promo2 were performing better even though the number of stores that participated in Promo2 is roughly equal to that of those that didn't participate. "
   ]
  },
  {
   "cell_type": "code",
   "execution_count": 27,
   "metadata": {
    "ExecuteTime": {
     "end_time": "2021-03-05T23:13:12.135339Z",
     "start_time": "2021-03-05T23:13:12.025408Z"
    },
    "scrolled": true
   },
   "outputs": [
    {
     "data": {
      "text/plain": [
       "StoreType\n",
       "a    3165334859\n",
       "b     159231395\n",
       "c     783221426\n",
       "d    1765392943\n",
       "Name: Sales, dtype: int64"
      ]
     },
     "execution_count": 27,
     "metadata": {},
     "output_type": "execute_result"
    }
   ],
   "source": [
    "combined_datasets.groupby('StoreType')['Sales'].sum()"
   ]
  },
  {
   "cell_type": "code",
   "execution_count": 28,
   "metadata": {
    "ExecuteTime": {
     "end_time": "2021-03-05T23:13:12.741892Z",
     "start_time": "2021-03-05T23:13:12.141333Z"
    }
   },
   "outputs": [
    {
     "data": {
      "text/html": [
       "<div>\n",
       "<style scoped>\n",
       "    .dataframe tbody tr th:only-of-type {\n",
       "        vertical-align: middle;\n",
       "    }\n",
       "\n",
       "    .dataframe tbody tr th {\n",
       "        vertical-align: top;\n",
       "    }\n",
       "\n",
       "    .dataframe thead th {\n",
       "        text-align: right;\n",
       "    }\n",
       "</style>\n",
       "<table border=\"1\" class=\"dataframe\">\n",
       "  <thead>\n",
       "    <tr style=\"text-align: right;\">\n",
       "      <th></th>\n",
       "      <th>count</th>\n",
       "      <th>mean</th>\n",
       "      <th>std</th>\n",
       "      <th>min</th>\n",
       "      <th>25%</th>\n",
       "      <th>50%</th>\n",
       "      <th>75%</th>\n",
       "      <th>max</th>\n",
       "    </tr>\n",
       "    <tr>\n",
       "      <th>StoreType</th>\n",
       "      <th></th>\n",
       "      <th></th>\n",
       "      <th></th>\n",
       "      <th></th>\n",
       "      <th></th>\n",
       "      <th></th>\n",
       "      <th></th>\n",
       "      <th></th>\n",
       "    </tr>\n",
       "  </thead>\n",
       "  <tbody>\n",
       "    <tr>\n",
       "      <th>a</th>\n",
       "      <td>551627.0</td>\n",
       "      <td>5738.179710</td>\n",
       "      <td>3964.028134</td>\n",
       "      <td>0.0</td>\n",
       "      <td>3508.0</td>\n",
       "      <td>5618.0</td>\n",
       "      <td>7860.00</td>\n",
       "      <td>41551.0</td>\n",
       "    </tr>\n",
       "    <tr>\n",
       "      <th>b</th>\n",
       "      <td>15830.0</td>\n",
       "      <td>10058.837334</td>\n",
       "      <td>5280.525506</td>\n",
       "      <td>0.0</td>\n",
       "      <td>6227.0</td>\n",
       "      <td>9025.5</td>\n",
       "      <td>13082.75</td>\n",
       "      <td>38722.0</td>\n",
       "    </tr>\n",
       "    <tr>\n",
       "      <th>c</th>\n",
       "      <td>136840.0</td>\n",
       "      <td>5723.629246</td>\n",
       "      <td>3721.700886</td>\n",
       "      <td>0.0</td>\n",
       "      <td>3789.0</td>\n",
       "      <td>5766.0</td>\n",
       "      <td>7849.00</td>\n",
       "      <td>31448.0</td>\n",
       "    </tr>\n",
       "    <tr>\n",
       "      <th>d</th>\n",
       "      <td>312912.0</td>\n",
       "      <td>5641.819243</td>\n",
       "      <td>3473.393781</td>\n",
       "      <td>0.0</td>\n",
       "      <td>3986.0</td>\n",
       "      <td>5826.0</td>\n",
       "      <td>7691.00</td>\n",
       "      <td>38037.0</td>\n",
       "    </tr>\n",
       "  </tbody>\n",
       "</table>\n",
       "</div>"
      ],
      "text/plain": [
       "              count          mean          std  min     25%     50%       75%  \\\n",
       "StoreType                                                                       \n",
       "a          551627.0   5738.179710  3964.028134  0.0  3508.0  5618.0   7860.00   \n",
       "b           15830.0  10058.837334  5280.525506  0.0  6227.0  9025.5  13082.75   \n",
       "c          136840.0   5723.629246  3721.700886  0.0  3789.0  5766.0   7849.00   \n",
       "d          312912.0   5641.819243  3473.393781  0.0  3986.0  5826.0   7691.00   \n",
       "\n",
       "               max  \n",
       "StoreType           \n",
       "a          41551.0  \n",
       "b          38722.0  \n",
       "c          31448.0  \n",
       "d          38037.0  "
      ]
     },
     "execution_count": 28,
     "metadata": {},
     "output_type": "execute_result"
    }
   ],
   "source": [
    "combined_datasets.groupby('StoreType')['Sales'].describe()"
   ]
  },
  {
   "cell_type": "markdown",
   "metadata": {},
   "source": [
    "Between the output of the previous 2 cells, there is a lot of infomation. For instance, Store B has the least amount of total sales, but have the highest amount of average sales. What's even more interesting is that Store B has the least number of records present in the dataset. \n",
    "\n",
    "On the other hand, not only does Store A has the next best average sales (after store B), it also has the most number of records in the dataset and amount to the largest contributor sales with an overal revenue of over 3 billion dollars. "
   ]
  },
  {
   "cell_type": "code",
   "execution_count": 29,
   "metadata": {
    "ExecuteTime": {
     "end_time": "2021-03-05T23:13:13.083672Z",
     "start_time": "2021-03-05T23:13:12.748884Z"
    },
    "scrolled": true
   },
   "outputs": [
    {
     "data": {
      "image/png": "[encoded data removed]",
      "text/plain": [
       "<Figure size 432x288 with 1 Axes>"
      ]
     },
     "metadata": {
      "needs_background": "light"
     },
     "output_type": "display_data"
    }
   ],
   "source": [
    "#Store Type 'A'.\n",
    "df_store_11_sales = combined_datasets.loc[combined_datasets['Store']==11]['Sales']\n",
    "\n",
    "# getting peaks: https://blog.ytotech.com/2015/11/01/findpeaks-in-python/\n",
    "# read more about fft function : https://docs.scipy.org/doc/numpy/reference/generated/numpy.fft.fft.html\n",
    "Y    = np.fft.fft(df_store_11_sales.values)\n",
    "# read more about the fftfreq: https://docs.scipy.org/doc/numpy/reference/generated/numpy.fft.fftfreq.html  \n",
    "freq = np.fft.fftfreq(len(Y), 1)\n",
    "n = len(freq)\n",
    "plt.figure()\n",
    "plt.plot( freq[:int(n/2)], np.abs(Y)[:int(n/2)] )\n",
    "plt.xlabel(\"Frequency\")\n",
    "plt.ylabel(\"Amplitude\")\n",
    "plt.ticklabel_format(style='plain', axis='y')\n",
    "plt.show()"
   ]
  },
  {
   "cell_type": "markdown",
   "metadata": {},
   "source": [
    "A summary of the missing values in the dataset"
   ]
  },
  {
   "cell_type": "code",
   "execution_count": 30,
   "metadata": {
    "ExecuteTime": {
     "end_time": "2021-03-05T23:13:13.586362Z",
     "start_time": "2021-03-05T23:13:13.086671Z"
    },
    "scrolled": false
   },
   "outputs": [
    {
     "name": "stdout",
     "output_type": "stream",
     "text": [
      "Percentage of missing values in the combined dataset\n"
     ]
    },
    {
     "data": {
      "text/plain": [
       "Store                         0.000000\n",
       "DayOfWeek                     0.000000\n",
       "Date                          0.000000\n",
       "Sales                         0.000000\n",
       "Customers                     0.000000\n",
       "Open                          0.000000\n",
       "Promo                         0.000000\n",
       "StateHoliday                  0.000000\n",
       "SchoolHoliday                 0.000000\n",
       "StateHoliday_combined         0.000000\n",
       "Year                          0.000000\n",
       "Month                         0.000000\n",
       "Day                           0.000000\n",
       "WeekOfYear                    0.000000\n",
       "StoreType                     0.000000\n",
       "Assortment                    0.000000\n",
       "CompetitionDistance           0.259730\n",
       "CompetitionOpenSinceMonth    31.787764\n",
       "CompetitionOpenSinceYear     31.787764\n",
       "Promo2                        0.000000\n",
       "Promo2SinceWeek              49.943620\n",
       "Promo2SinceYear              49.943620\n",
       "PromoInterval                49.943620\n",
       "PromoInterval0               49.943620\n",
       "PromoInterval1               49.943620\n",
       "PromoInterval2               49.943620\n",
       "PromoInterval3               49.943620\n",
       "dtype: float64"
      ]
     },
     "execution_count": 30,
     "metadata": {},
     "output_type": "execute_result"
    }
   ],
   "source": [
    "print(\"Percentage of missing values in the combined dataset\")\n",
    "combined_datasets.isna().sum() * 100 / len(combined_datasets)"
   ]
  },
  {
   "cell_type": "code",
   "execution_count": 43,
   "metadata": {
    "ExecuteTime": {
     "end_time": "2021-03-05T23:15:43.169249Z",
     "start_time": "2021-03-05T23:15:43.147261Z"
    }
   },
   "outputs": [
    {
     "name": "stdout",
     "output_type": "stream",
     "text": [
      "Percentage of missing values in the test dataset\n"
     ]
    },
    {
     "data": {
      "text/plain": [
       "Store              0.000000\n",
       "DayOfWeek          0.000000\n",
       "Date               0.000000\n",
       "Sales            100.000000\n",
       "Customers        100.000000\n",
       "Open               0.026772\n",
       "Promo              0.000000\n",
       "StateHoliday       0.000000\n",
       "SchoolHoliday      0.000000\n",
       "dtype: float64"
      ]
     },
     "execution_count": 43,
     "metadata": {},
     "output_type": "execute_result"
    }
   ],
   "source": [
    "print(\"Percentage of missing values in the test dataset\")\n",
    "test.isna().sum() * 100 / len(test)"
   ]
  },
  {
   "cell_type": "markdown",
   "metadata": {},
   "source": [
    "It is important to note that most of the columns don't have any missing values, however, attributes related to competition and Promo2 have about 30% and 50% of the data missing. We need to find a way to meaningfully impute this data. "
   ]
  },
  {
   "cell_type": "code",
   "execution_count": 50,
   "metadata": {
    "ExecuteTime": {
     "end_time": "2021-03-06T13:44:23.743422Z",
     "start_time": "2021-03-06T13:44:22.983834Z"
    }
   },
   "outputs": [
    {
     "name": "stdout",
     "output_type": "stream",
     "text": [
      "The number of duplicate rows in train, test and store are (0, 0, 0) respectively\n"
     ]
    }
   ],
   "source": [
    "train_duplicates = train.duplicated().sum()\n",
    "test_duplicates = test.duplicated().sum()\n",
    "store_duplicates = store.duplicated().sum()\n",
    "print(\"The number of duplicate rows in train, test and store are ({}, {}, {}) respectively\"\n",
    "     .format(train_duplicates, test_duplicates, store_duplicates))"
   ]
  },
  {
   "cell_type": "code",
   "execution_count": 60,
   "metadata": {
    "ExecuteTime": {
     "end_time": "2021-03-06T17:53:48.547666Z",
     "start_time": "2021-03-06T17:53:48.183371Z"
    }
   },
   "outputs": [],
   "source": [
    "def forward_selection(data, target, significance_level=0.05):\n",
    "    initial_features = data.columns.tolist()\n",
    "    best_features = []\n",
    "    while (len(initial_features)>0):\n",
    "        remaining_features = list(set(initial_features)-set(best_features))\n",
    "        new_pval = pd.Series(index=remaining_features)\n",
    "        for new_column in remaining_features:\n",
    "            model = sm.OLS(target, sm.add_constant(data[best_features+[new_column]])).fit()\n",
    "            new_pval[new_column] = model.pvalues[new_column]\n",
    "        min_p_value = new_pval.min()\n",
    "        if(min_p_value<significance_level):\n",
    "            best_features.append(new_pval.idxmin())\n",
    "        else:\n",
    "            break\n",
    "    return best_features\n",
    "\n",
    "\n",
    "from mlxtend.feature_selection import SequentialFeatureSelector as SFS\n",
    "from sklearn.linear_model import LinearRegression\n",
    "def forward_selection(X, y, k_features)\n",
    "    sfs = SFS(LinearRegression(),\n",
    "              k_features=k_features,\n",
    "              forward=True,\n",
    "              floating=False,\n",
    "              scoring = 'r2',\n",
    "              cv = 0)\n",
    "    sfs.fit(X, y)\n",
    "    return sfs.k_feature_names_"
   ]
  },
  {
   "cell_type": "code",
   "execution_count": 79,
   "metadata": {
    "ExecuteTime": {
     "end_time": "2021-03-06T18:38:01.896154Z",
     "start_time": "2021-03-06T18:38:01.882162Z"
    }
   },
   "outputs": [
    {
     "name": "stdout",
     "output_type": "stream",
     "text": [
      " List of features after perform feature extraction\n",
      " using VIF and Forward Feature Selection:\n",
      "\n",
      " Store\n",
      " DayOfWeek\n",
      " Promo\n",
      " StateHoliday\n",
      " SchoolHoliday\n",
      " StoreType\n",
      " Assortment\n",
      " CompetitionDistance\n",
      " CompetitionOpenSinceMonth\n",
      " CompetitionOpenSinceYear\n",
      " Promo2\n",
      " Promo2SinceWeek\n",
      " Promo2SinceYear\n",
      " Year\n",
      " Month\n",
      " Day\n",
      " WeekOfYear\n",
      " DayOfYear\n",
      " SalesPerDay\n",
      " Customers_per_day\n",
      " Sales_Per_Customers_Per_Day\n",
      " PromoInterval0\n",
      " PromoInterval1\n",
      " PromoInterval2\n",
      " PromoInterval3\n",
      " Acceleration\n",
      " State\n",
      " Promo_before_days\n",
      " Promo_after_days\n",
      " Frequency_2\n",
      " Frequency_3\n",
      " Amplitude_2\n",
      " Amplitude_3\n",
      " Mean_TemperatureC\n",
      " Events\n",
      " Sales\n",
      "\n"
     ]
    }
   ],
   "source": [
    "print(' List of features after perform feature extraction\\n'\n",
    "      ' using VIF and Forward Feature Selection:\\n\\n'\n",
    "' Store\\n',\n",
    "'DayOfWeek\\n',\n",
    "'Promo\\n',\n",
    "'StateHoliday\\n',\n",
    "'SchoolHoliday\\n',\n",
    "'StoreType\\n',\n",
    "'Assortment\\n',\n",
    "'CompetitionDistance\\n',\n",
    "'CompetitionOpenSinceMonth\\n',\n",
    "'CompetitionOpenSinceYear\\n',\n",
    "'Promo2\\n',\n",
    "'Promo2SinceWeek\\n',\n",
    "'Promo2SinceYear\\n',\n",
    "'Year\\n',\n",
    "'Month\\n',\n",
    "'Day\\n',\n",
    "'WeekOfYear\\n',\n",
    "'DayOfYear\\n',\n",
    "'SalesPerDay\\n',\n",
    "'Customers_per_day\\n',\n",
    "'Sales_Per_Customers_Per_Day\\n',\n",
    "'PromoInterval0\\n',\n",
    "'PromoInterval1\\n',\n",
    "'PromoInterval2\\n',\n",
    "'PromoInterval3\\n',\n",
    "'Acceleration\\n',\n",
    "'State\\n',\n",
    "'Promo_before_days\\n',\n",
    "'Promo_after_days\\n',\n",
    "'Frequency_2\\n',\n",
    "'Frequency_3\\n',\n",
    "'Amplitude_2\\n',\n",
    "'Amplitude_3\\n',\n",
    "'Mean_TemperatureC\\n',\n",
    "'Events\\n',\n",
    "'Sales\\n')"
   ]
  },
  {
   "cell_type": "code",
   "execution_count": 31,
   "metadata": {
    "ExecuteTime": {
     "end_time": "2021-03-05T23:13:15.247451Z",
     "start_time": "2021-03-05T23:13:13.589359Z"
    },
    "scrolled": false
   },
   "outputs": [
    {
     "data": {
      "text/plain": [
       "<AxesSubplot:xlabel='CompetitionOpenSinceYear', ylabel='Density'>"
      ]
     },
     "execution_count": 31,
     "metadata": {},
     "output_type": "execute_result"
    },
    {
     "data": {
      "image/png": "[encoded data removed]",
      "text/plain": [
       "<Figure size 432x288 with 1 Axes>"
      ]
     },
     "metadata": {
      "needs_background": "light"
     },
     "output_type": "display_data"
    }
   ],
   "source": [
    "sns.distplot(store['CompetitionOpenSinceYear'])"
   ]
  },
  {
   "cell_type": "code",
   "execution_count": 32,
   "metadata": {
    "ExecuteTime": {
     "end_time": "2021-03-05T23:13:15.268435Z",
     "start_time": "2021-03-05T23:13:15.255444Z"
    }
   },
   "outputs": [
    {
     "name": "stdout",
     "output_type": "stream",
     "text": [
      "Most of stores have their competition opened in the year 2010.0.\n"
     ]
    }
   ],
   "source": [
    "year_median = store['CompetitionOpenSinceYear'].median()\n",
    "print(f'Most of stores have their competition opened in the year {year_median}.')"
   ]
  },
  {
   "cell_type": "code",
   "execution_count": 33,
   "metadata": {
    "ExecuteTime": {
     "end_time": "2021-03-05T23:13:15.788110Z",
     "start_time": "2021-03-05T23:13:15.276430Z"
    }
   },
   "outputs": [
    {
     "data": {
      "text/plain": [
       "<AxesSubplot:xlabel='CompetitionOpenSinceMonth', ylabel='Density'>"
      ]
     },
     "execution_count": 33,
     "metadata": {},
     "output_type": "execute_result"
    },
    {
     "data": {
      "image/png": "[encoded data removed]",
      "text/plain": [
       "<Figure size 432x288 with 1 Axes>"
      ]
     },
     "metadata": {
      "needs_background": "light"
     },
     "output_type": "display_data"
    }
   ],
   "source": [
    "sns.distplot(store['CompetitionOpenSinceMonth'])"
   ]
  },
  {
   "cell_type": "code",
   "execution_count": 34,
   "metadata": {
    "ExecuteTime": {
     "end_time": "2021-03-05T23:13:15.796107Z",
     "start_time": "2021-03-05T23:13:15.790108Z"
    }
   },
   "outputs": [
    {
     "name": "stdout",
     "output_type": "stream",
     "text": [
      "Most of stores have their competition opened in the month 8.0.\n"
     ]
    }
   ],
   "source": [
    "month_median = store['CompetitionOpenSinceMonth'].median()\n",
    "print(f'Most of stores have their competition opened in the month {month_median}.')"
   ]
  },
  {
   "cell_type": "code",
   "execution_count": 35,
   "metadata": {
    "ExecuteTime": {
     "end_time": "2021-03-05T23:13:15.922029Z",
     "start_time": "2021-03-05T23:13:15.798104Z"
    }
   },
   "outputs": [
    {
     "data": {
      "text/html": [
       "<div>\n",
       "<style scoped>\n",
       "    .dataframe tbody tr th:only-of-type {\n",
       "        vertical-align: middle;\n",
       "    }\n",
       "\n",
       "    .dataframe tbody tr th {\n",
       "        vertical-align: top;\n",
       "    }\n",
       "\n",
       "    .dataframe thead th {\n",
       "        text-align: right;\n",
       "    }\n",
       "</style>\n",
       "<table border=\"1\" class=\"dataframe\">\n",
       "  <thead>\n",
       "    <tr style=\"text-align: right;\">\n",
       "      <th></th>\n",
       "      <th>Store</th>\n",
       "      <th>StoreType</th>\n",
       "      <th>Assortment</th>\n",
       "      <th>CompetitionDistance</th>\n",
       "      <th>CompetitionOpenSinceMonth</th>\n",
       "      <th>CompetitionOpenSinceYear</th>\n",
       "      <th>Promo2</th>\n",
       "      <th>Promo2SinceWeek</th>\n",
       "      <th>Promo2SinceYear</th>\n",
       "      <th>PromoInterval</th>\n",
       "      <th>PromoInterval0</th>\n",
       "      <th>PromoInterval1</th>\n",
       "      <th>PromoInterval2</th>\n",
       "      <th>PromoInterval3</th>\n",
       "    </tr>\n",
       "  </thead>\n",
       "  <tbody>\n",
       "    <tr>\n",
       "      <th>290</th>\n",
       "      <td>291</td>\n",
       "      <td>d</td>\n",
       "      <td>a</td>\n",
       "      <td>NaN</td>\n",
       "      <td>NaN</td>\n",
       "      <td>NaN</td>\n",
       "      <td>0</td>\n",
       "      <td>NaN</td>\n",
       "      <td>NaN</td>\n",
       "      <td>NaN</td>\n",
       "      <td>NaN</td>\n",
       "      <td>NaN</td>\n",
       "      <td>NaN</td>\n",
       "      <td>NaN</td>\n",
       "    </tr>\n",
       "    <tr>\n",
       "      <th>621</th>\n",
       "      <td>622</td>\n",
       "      <td>a</td>\n",
       "      <td>c</td>\n",
       "      <td>NaN</td>\n",
       "      <td>NaN</td>\n",
       "      <td>NaN</td>\n",
       "      <td>0</td>\n",
       "      <td>NaN</td>\n",
       "      <td>NaN</td>\n",
       "      <td>NaN</td>\n",
       "      <td>NaN</td>\n",
       "      <td>NaN</td>\n",
       "      <td>NaN</td>\n",
       "      <td>NaN</td>\n",
       "    </tr>\n",
       "    <tr>\n",
       "      <th>878</th>\n",
       "      <td>879</td>\n",
       "      <td>d</td>\n",
       "      <td>a</td>\n",
       "      <td>NaN</td>\n",
       "      <td>NaN</td>\n",
       "      <td>NaN</td>\n",
       "      <td>1</td>\n",
       "      <td>5.0</td>\n",
       "      <td>2013.0</td>\n",
       "      <td>Feb,May,Aug,Nov</td>\n",
       "      <td>Feb</td>\n",
       "      <td>May</td>\n",
       "      <td>Aug</td>\n",
       "      <td>Nov</td>\n",
       "    </tr>\n",
       "  </tbody>\n",
       "</table>\n",
       "</div>"
      ],
      "text/plain": [
       "     Store StoreType Assortment  CompetitionDistance  \\\n",
       "290    291         d          a                  NaN   \n",
       "621    622         a          c                  NaN   \n",
       "878    879         d          a                  NaN   \n",
       "\n",
       "     CompetitionOpenSinceMonth  CompetitionOpenSinceYear  Promo2  \\\n",
       "290                        NaN                       NaN       0   \n",
       "621                        NaN                       NaN       0   \n",
       "878                        NaN                       NaN       1   \n",
       "\n",
       "     Promo2SinceWeek  Promo2SinceYear    PromoInterval PromoInterval0  \\\n",
       "290              NaN              NaN              NaN            NaN   \n",
       "621              NaN              NaN              NaN            NaN   \n",
       "878              5.0           2013.0  Feb,May,Aug,Nov            Feb   \n",
       "\n",
       "    PromoInterval1 PromoInterval2 PromoInterval3  \n",
       "290            NaN            NaN            NaN  \n",
       "621            NaN            NaN            NaN  \n",
       "878            May            Aug            Nov  "
      ]
     },
     "execution_count": 35,
     "metadata": {},
     "output_type": "execute_result"
    }
   ],
   "source": [
    "store.loc[pd.isnull(store['CompetitionDistance'])]"
   ]
  },
  {
   "cell_type": "code",
   "execution_count": 36,
   "metadata": {
    "ExecuteTime": {
     "end_time": "2021-03-05T23:13:16.410725Z",
     "start_time": "2021-03-05T23:13:15.925027Z"
    }
   },
   "outputs": [
    {
     "data": {
      "text/plain": [
       "Text(0.5, 0, 'Competition Distance in meters')"
      ]
     },
     "execution_count": 36,
     "metadata": {},
     "output_type": "execute_result"
    },
    {
     "data": {
      "image/png": "[encoded data removed]",
      "text/plain": [
       "<Figure size 432x288 with 1 Axes>"
      ]
     },
     "metadata": {
      "needs_background": "light"
     },
     "output_type": "display_data"
    }
   ],
   "source": [
    "#Plotting distribution of Competition Distance.\n",
    "sns.distplot(store['CompetitionDistance'])\n",
    "plt.xlabel('Competition Distance in meters',fontsize=11.5)"
   ]
  },
  {
   "cell_type": "code",
   "execution_count": 37,
   "metadata": {
    "ExecuteTime": {
     "end_time": "2021-03-05T23:13:16.419721Z",
     "start_time": "2021-03-05T23:13:16.413721Z"
    }
   },
   "outputs": [
    {
     "name": "stdout",
     "output_type": "stream",
     "text": [
      "Most of stores have their competition within 2.325kms.\n"
     ]
    }
   ],
   "source": [
    "distance_median = store['CompetitionDistance'].median()\n",
    "print(f'Most of stores have their competition within {distance_median/1000}kms.')"
   ]
  },
  {
   "cell_type": "markdown",
   "metadata": {},
   "source": [
    "Even though 31% of data is missing for CompetitionOpenSinceMonth and CompetitionOpenSinceYear, only 0.259% of the CompetitionDistance is missing. So the absence of competition month/year doesn't necessarily mean that there were no competitions around, it just means that we do not have info about when these rival were opened.  It goes without saying that distance and month/year values are not dependent on each other."
   ]
  },
  {
   "cell_type": "markdown",
   "metadata": {},
   "source": [
    "#### Conclusions of EDA\n",
    "\n",
    "The most selling and crowded store type is A.\n",
    "\n",
    "Sales is highly correlated to number of Customers.\n",
    "\n",
    "For all stores, Promotion leads to increase in Sales and Customers both.\n",
    "\n",
    "The stores which are opened during School Holiday have more sales than normal days.\n",
    "\n",
    "More stores are opened during School holidays than State holidays.\n",
    "\n",
    "Sales are increased during Chirstmas week, this might be due to the fact that people buy more beauty products during a Christmas celebration.\n",
    "\n",
    "Absence of values in features CompetitionOpenSinceYear/Month doesn’t indicate the absence of competition as CompetitionDistance values are not null where the other two values are null.\n",
    "\n",
    "After analysing sales using Fourier decomposition, I found that there’s a little seasonality component in the Sales data."
   ]
  },
  {
   "cell_type": "markdown",
   "metadata": {},
   "source": [
    "Data Transformation"
   ]
  },
  {
   "cell_type": "markdown",
   "metadata": {},
   "source": [
    "Performing log transformation on the sales data"
   ]
  },
  {
   "cell_type": "code",
   "execution_count": 38,
   "metadata": {
    "ExecuteTime": {
     "end_time": "2021-03-05T23:13:16.534648Z",
     "start_time": "2021-03-05T23:13:16.423716Z"
    }
   },
   "outputs": [],
   "source": [
    "# combined_datasets['SalesLog'] = np.log1p(combined_datasets['Sales'])"
   ]
  },
  {
   "cell_type": "code",
   "execution_count": 39,
   "metadata": {
    "ExecuteTime": {
     "end_time": "2021-03-05T23:13:16.651576Z",
     "start_time": "2021-03-05T23:13:16.537645Z"
    }
   },
   "outputs": [],
   "source": [
    "# combined_datasets"
   ]
  },
  {
   "cell_type": "markdown",
   "metadata": {},
   "source": [
    "#### Creating Outlier Column based on mean absolute deviation."
   ]
  },
  {
   "cell_type": "code",
   "execution_count": 40,
   "metadata": {
    "ExecuteTime": {
     "end_time": "2021-03-05T23:13:16.768504Z",
     "start_time": "2021-03-05T23:13:16.654572Z"
    }
   },
   "outputs": [],
   "source": [
    "def mad_based_outlier(points, thresh=3.5):\n",
    "    '''\n",
    "    This function will calculate mean absolute deviation and return true or \n",
    "    false based on points which have MAD greater than threshold provided.\n",
    "    '''\n",
    "    if len(points.shape) == 1:\n",
    "        points = points[:,None]\n",
    "    median = np.median(points, axis=0)\n",
    "    diff = np.sum((points - median)**2, axis=-1)\n",
    "    diff = np.sqrt(diff)\n",
    "    med_abs_deviation = np.median(diff)\n",
    "\n",
    "    modified_z_score = 0.6745 * diff / med_abs_deviation\n",
    "\n",
    "    return modified_z_score > thresh"
   ]
  },
  {
   "cell_type": "code",
   "execution_count": 41,
   "metadata": {
    "ExecuteTime": {
     "end_time": "2021-03-05T23:13:35.976593Z",
     "start_time": "2021-03-05T23:13:16.772500Z"
    }
   },
   "outputs": [
    {
     "ename": "KeyboardInterrupt",
     "evalue": "",
     "output_type": "error",
     "traceback": [
      "\u001b[1;31m---------------------------------------------------------------------------\u001b[0m",
      "\u001b[1;31mKeyboardInterrupt\u001b[0m                         Traceback (most recent call last)",
      "\u001b[1;32m<ipython-input-41-366f11e0a164>\u001b[0m in \u001b[0;36m<module>\u001b[1;34m\u001b[0m\n\u001b[0;32m      1\u001b[0m \u001b[1;31m#Creating new column 'Outlier' which tells whether a point is outlier or not.\u001b[0m\u001b[1;33m\u001b[0m\u001b[1;33m\u001b[0m\u001b[1;33m\u001b[0m\u001b[0m\n\u001b[0;32m      2\u001b[0m \u001b[1;32mfor\u001b[0m \u001b[0mi\u001b[0m \u001b[1;32min\u001b[0m \u001b[0mcombined_datasets\u001b[0m\u001b[1;33m[\u001b[0m\u001b[1;34m'Store'\u001b[0m\u001b[1;33m]\u001b[0m\u001b[1;33m.\u001b[0m\u001b[0munique\u001b[0m\u001b[1;33m(\u001b[0m\u001b[1;33m)\u001b[0m\u001b[1;33m:\u001b[0m\u001b[1;33m\u001b[0m\u001b[1;33m\u001b[0m\u001b[0m\n\u001b[1;32m----> 3\u001b[1;33m     combined_datasets.loc[(combined_datasets['Store'] == i) \n\u001b[0m\u001b[0;32m      4\u001b[0m                           & (combined_datasets['Open'] == 1), 'Outlier'] = \\\n\u001b[0;32m      5\u001b[0m         mad_based_outlier(combined_datasets.loc[(combined_datasets['Store'] == i) \n",
      "\u001b[1;32mC:\\System\\Study\\UoM\\Projects\\conda_environments\\stats_and_ml\\env\\lib\\site-packages\\pandas\\core\\ops\\common.py\u001b[0m in \u001b[0;36mnew_method\u001b[1;34m(self, other)\u001b[0m\n\u001b[0;32m     63\u001b[0m         \u001b[0mother\u001b[0m \u001b[1;33m=\u001b[0m \u001b[0mitem_from_zerodim\u001b[0m\u001b[1;33m(\u001b[0m\u001b[0mother\u001b[0m\u001b[1;33m)\u001b[0m\u001b[1;33m\u001b[0m\u001b[1;33m\u001b[0m\u001b[0m\n\u001b[0;32m     64\u001b[0m \u001b[1;33m\u001b[0m\u001b[0m\n\u001b[1;32m---> 65\u001b[1;33m         \u001b[1;32mreturn\u001b[0m \u001b[0mmethod\u001b[0m\u001b[1;33m(\u001b[0m\u001b[0mself\u001b[0m\u001b[1;33m,\u001b[0m \u001b[0mother\u001b[0m\u001b[1;33m)\u001b[0m\u001b[1;33m\u001b[0m\u001b[1;33m\u001b[0m\u001b[0m\n\u001b[0m\u001b[0;32m     66\u001b[0m \u001b[1;33m\u001b[0m\u001b[0m\n\u001b[0;32m     67\u001b[0m     \u001b[1;32mreturn\u001b[0m \u001b[0mnew_method\u001b[0m\u001b[1;33m\u001b[0m\u001b[1;33m\u001b[0m\u001b[0m\n",
      "\u001b[1;32mC:\\System\\Study\\UoM\\Projects\\conda_environments\\stats_and_ml\\env\\lib\\site-packages\\pandas\\core\\ops\\__init__.py\u001b[0m in \u001b[0;36mwrapper\u001b[1;34m(self, other)\u001b[0m\n\u001b[0;32m    368\u001b[0m         \u001b[0mrvalues\u001b[0m \u001b[1;33m=\u001b[0m \u001b[0mextract_array\u001b[0m\u001b[1;33m(\u001b[0m\u001b[0mother\u001b[0m\u001b[1;33m,\u001b[0m \u001b[0mextract_numpy\u001b[0m\u001b[1;33m=\u001b[0m\u001b[1;32mTrue\u001b[0m\u001b[1;33m)\u001b[0m\u001b[1;33m\u001b[0m\u001b[1;33m\u001b[0m\u001b[0m\n\u001b[0;32m    369\u001b[0m \u001b[1;33m\u001b[0m\u001b[0m\n\u001b[1;32m--> 370\u001b[1;33m         \u001b[0mres_values\u001b[0m \u001b[1;33m=\u001b[0m \u001b[0mcomparison_op\u001b[0m\u001b[1;33m(\u001b[0m\u001b[0mlvalues\u001b[0m\u001b[1;33m,\u001b[0m \u001b[0mrvalues\u001b[0m\u001b[1;33m,\u001b[0m \u001b[0mop\u001b[0m\u001b[1;33m)\u001b[0m\u001b[1;33m\u001b[0m\u001b[1;33m\u001b[0m\u001b[0m\n\u001b[0m\u001b[0;32m    371\u001b[0m \u001b[1;33m\u001b[0m\u001b[0m\n\u001b[0;32m    372\u001b[0m         \u001b[1;32mreturn\u001b[0m \u001b[0mself\u001b[0m\u001b[1;33m.\u001b[0m\u001b[0m_construct_result\u001b[0m\u001b[1;33m(\u001b[0m\u001b[0mres_values\u001b[0m\u001b[1;33m,\u001b[0m \u001b[0mname\u001b[0m\u001b[1;33m=\u001b[0m\u001b[0mres_name\u001b[0m\u001b[1;33m)\u001b[0m\u001b[1;33m\u001b[0m\u001b[1;33m\u001b[0m\u001b[0m\n",
      "\u001b[1;32mC:\\System\\Study\\UoM\\Projects\\conda_environments\\stats_and_ml\\env\\lib\\site-packages\\pandas\\core\\ops\\array_ops.py\u001b[0m in \u001b[0;36mcomparison_op\u001b[1;34m(left, right, op)\u001b[0m\n\u001b[0;32m    249\u001b[0m             \u001b[0mwarnings\u001b[0m\u001b[1;33m.\u001b[0m\u001b[0msimplefilter\u001b[0m\u001b[1;33m(\u001b[0m\u001b[1;34m\"ignore\"\u001b[0m\u001b[1;33m,\u001b[0m \u001b[0mDeprecationWarning\u001b[0m\u001b[1;33m)\u001b[0m\u001b[1;33m\u001b[0m\u001b[1;33m\u001b[0m\u001b[0m\n\u001b[0;32m    250\u001b[0m             \u001b[1;32mwith\u001b[0m \u001b[0mnp\u001b[0m\u001b[1;33m.\u001b[0m\u001b[0merrstate\u001b[0m\u001b[1;33m(\u001b[0m\u001b[0mall\u001b[0m\u001b[1;33m=\u001b[0m\u001b[1;34m\"ignore\"\u001b[0m\u001b[1;33m)\u001b[0m\u001b[1;33m:\u001b[0m\u001b[1;33m\u001b[0m\u001b[1;33m\u001b[0m\u001b[0m\n\u001b[1;32m--> 251\u001b[1;33m                 \u001b[0mres_values\u001b[0m \u001b[1;33m=\u001b[0m \u001b[0mna_arithmetic_op\u001b[0m\u001b[1;33m(\u001b[0m\u001b[0mlvalues\u001b[0m\u001b[1;33m,\u001b[0m \u001b[0mrvalues\u001b[0m\u001b[1;33m,\u001b[0m \u001b[0mop\u001b[0m\u001b[1;33m,\u001b[0m \u001b[0mis_cmp\u001b[0m\u001b[1;33m=\u001b[0m\u001b[1;32mTrue\u001b[0m\u001b[1;33m)\u001b[0m\u001b[1;33m\u001b[0m\u001b[1;33m\u001b[0m\u001b[0m\n\u001b[0m\u001b[0;32m    252\u001b[0m \u001b[1;33m\u001b[0m\u001b[0m\n\u001b[0;32m    253\u001b[0m     \u001b[1;32mreturn\u001b[0m \u001b[0mres_values\u001b[0m\u001b[1;33m\u001b[0m\u001b[1;33m\u001b[0m\u001b[0m\n",
      "\u001b[1;32mC:\\System\\Study\\UoM\\Projects\\conda_environments\\stats_and_ml\\env\\lib\\site-packages\\pandas\\core\\ops\\array_ops.py\u001b[0m in \u001b[0;36mna_arithmetic_op\u001b[1;34m(left, right, op, is_cmp)\u001b[0m\n\u001b[0;32m    141\u001b[0m \u001b[1;33m\u001b[0m\u001b[0m\n\u001b[0;32m    142\u001b[0m     \u001b[1;32mtry\u001b[0m\u001b[1;33m:\u001b[0m\u001b[1;33m\u001b[0m\u001b[1;33m\u001b[0m\u001b[0m\n\u001b[1;32m--> 143\u001b[1;33m         \u001b[0mresult\u001b[0m \u001b[1;33m=\u001b[0m \u001b[0mexpressions\u001b[0m\u001b[1;33m.\u001b[0m\u001b[0mevaluate\u001b[0m\u001b[1;33m(\u001b[0m\u001b[0mop\u001b[0m\u001b[1;33m,\u001b[0m \u001b[0mleft\u001b[0m\u001b[1;33m,\u001b[0m \u001b[0mright\u001b[0m\u001b[1;33m)\u001b[0m\u001b[1;33m\u001b[0m\u001b[1;33m\u001b[0m\u001b[0m\n\u001b[0m\u001b[0;32m    144\u001b[0m     \u001b[1;32mexcept\u001b[0m \u001b[0mTypeError\u001b[0m\u001b[1;33m:\u001b[0m\u001b[1;33m\u001b[0m\u001b[1;33m\u001b[0m\u001b[0m\n\u001b[0;32m    145\u001b[0m         \u001b[1;32mif\u001b[0m \u001b[0mis_cmp\u001b[0m\u001b[1;33m:\u001b[0m\u001b[1;33m\u001b[0m\u001b[1;33m\u001b[0m\u001b[0m\n",
      "\u001b[1;32mC:\\System\\Study\\UoM\\Projects\\conda_environments\\stats_and_ml\\env\\lib\\site-packages\\pandas\\core\\computation\\expressions.py\u001b[0m in \u001b[0;36mevaluate\u001b[1;34m(op, a, b, use_numexpr)\u001b[0m\n\u001b[0;32m    231\u001b[0m         \u001b[0muse_numexpr\u001b[0m \u001b[1;33m=\u001b[0m \u001b[0muse_numexpr\u001b[0m \u001b[1;32mand\u001b[0m \u001b[0m_bool_arith_check\u001b[0m\u001b[1;33m(\u001b[0m\u001b[0mop_str\u001b[0m\u001b[1;33m,\u001b[0m \u001b[0ma\u001b[0m\u001b[1;33m,\u001b[0m \u001b[0mb\u001b[0m\u001b[1;33m)\u001b[0m\u001b[1;33m\u001b[0m\u001b[1;33m\u001b[0m\u001b[0m\n\u001b[0;32m    232\u001b[0m         \u001b[1;32mif\u001b[0m \u001b[0muse_numexpr\u001b[0m\u001b[1;33m:\u001b[0m\u001b[1;33m\u001b[0m\u001b[1;33m\u001b[0m\u001b[0m\n\u001b[1;32m--> 233\u001b[1;33m             \u001b[1;32mreturn\u001b[0m \u001b[0m_evaluate\u001b[0m\u001b[1;33m(\u001b[0m\u001b[0mop\u001b[0m\u001b[1;33m,\u001b[0m \u001b[0mop_str\u001b[0m\u001b[1;33m,\u001b[0m \u001b[0ma\u001b[0m\u001b[1;33m,\u001b[0m \u001b[0mb\u001b[0m\u001b[1;33m)\u001b[0m  \u001b[1;31m# type: ignore\u001b[0m\u001b[1;33m\u001b[0m\u001b[1;33m\u001b[0m\u001b[0m\n\u001b[0m\u001b[0;32m    234\u001b[0m     \u001b[1;32mreturn\u001b[0m \u001b[0m_evaluate_standard\u001b[0m\u001b[1;33m(\u001b[0m\u001b[0mop\u001b[0m\u001b[1;33m,\u001b[0m \u001b[0mop_str\u001b[0m\u001b[1;33m,\u001b[0m \u001b[0ma\u001b[0m\u001b[1;33m,\u001b[0m \u001b[0mb\u001b[0m\u001b[1;33m)\u001b[0m\u001b[1;33m\u001b[0m\u001b[1;33m\u001b[0m\u001b[0m\n\u001b[0;32m    235\u001b[0m \u001b[1;33m\u001b[0m\u001b[0m\n",
      "\u001b[1;32mC:\\System\\Study\\UoM\\Projects\\conda_environments\\stats_and_ml\\env\\lib\\site-packages\\pandas\\core\\computation\\expressions.py\u001b[0m in \u001b[0;36m_evaluate_standard\u001b[1;34m(op, op_str, a, b)\u001b[0m\n\u001b[0;32m     66\u001b[0m         \u001b[0m_store_test_result\u001b[0m\u001b[1;33m(\u001b[0m\u001b[1;32mFalse\u001b[0m\u001b[1;33m)\u001b[0m\u001b[1;33m\u001b[0m\u001b[1;33m\u001b[0m\u001b[0m\n\u001b[0;32m     67\u001b[0m     \u001b[1;32mwith\u001b[0m \u001b[0mnp\u001b[0m\u001b[1;33m.\u001b[0m\u001b[0merrstate\u001b[0m\u001b[1;33m(\u001b[0m\u001b[0mall\u001b[0m\u001b[1;33m=\u001b[0m\u001b[1;34m\"ignore\"\u001b[0m\u001b[1;33m)\u001b[0m\u001b[1;33m:\u001b[0m\u001b[1;33m\u001b[0m\u001b[1;33m\u001b[0m\u001b[0m\n\u001b[1;32m---> 68\u001b[1;33m         \u001b[1;32mreturn\u001b[0m \u001b[0mop\u001b[0m\u001b[1;33m(\u001b[0m\u001b[0ma\u001b[0m\u001b[1;33m,\u001b[0m \u001b[0mb\u001b[0m\u001b[1;33m)\u001b[0m\u001b[1;33m\u001b[0m\u001b[1;33m\u001b[0m\u001b[0m\n\u001b[0m\u001b[0;32m     69\u001b[0m \u001b[1;33m\u001b[0m\u001b[0m\n\u001b[0;32m     70\u001b[0m \u001b[1;33m\u001b[0m\u001b[0m\n",
      "\u001b[1;31mKeyboardInterrupt\u001b[0m: "
     ]
    }
   ],
   "source": [
    "#Creating new column 'Outlier' which tells whether a point is outlier or not.\n",
    "for i in combined_datasets['Store'].unique():\n",
    "    combined_datasets.loc[(combined_datasets['Store'] == i) \n",
    "                          & (combined_datasets['Open'] == 1), 'Outlier'] = \\\n",
    "        mad_based_outlier(combined_datasets.loc[(combined_datasets['Store'] == i) \n",
    "                                                & (combined_datasets['Open'] == 1)]['Sales'], 3.5)"
   ]
  },
  {
   "cell_type": "code",
   "execution_count": null,
   "metadata": {
    "ExecuteTime": {
     "end_time": "2021-03-05T23:13:36.013569Z",
     "start_time": "2021-03-05T23:07:19.409Z"
    }
   },
   "outputs": [],
   "source": [
    "combined_datasets['DayOfYear'] = combined_datasets['Date'].dt.dayofyear\n",
    "combined_datasets['DayOfYear']"
   ]
  },
  {
   "cell_type": "code",
   "execution_count": null,
   "metadata": {
    "ExecuteTime": {
     "end_time": "2021-03-05T23:13:36.015566Z",
     "start_time": "2021-03-05T23:07:19.415Z"
    }
   },
   "outputs": [],
   "source": [
    "combined_datasets.sort_values('Date', inplace=True)\n",
    "\n",
    "#Removing all the outliers.\n",
    "combined_datasets = combined_datasets.loc[combined_datasets['Outlier']==False].drop('Outlier', axis=1)"
   ]
  },
  {
   "cell_type": "markdown",
   "metadata": {},
   "source": [
    "#### Holidays this week, last week and next week."
   ]
  },
  {
   "cell_type": "code",
   "execution_count": null,
   "metadata": {
    "ExecuteTime": {
     "end_time": "2021-03-05T23:13:36.019564Z",
     "start_time": "2021-03-05T23:07:19.420Z"
    }
   },
   "outputs": [],
   "source": [
    "# dict_for_store_holidays = dict()"
   ]
  },
  {
   "cell_type": "code",
   "execution_count": null,
   "metadata": {
    "ExecuteTime": {
     "end_time": "2021-03-05T23:13:36.021563Z",
     "start_time": "2021-03-05T23:07:19.424Z"
    }
   },
   "outputs": [],
   "source": [
    "# for j in combined_datasets['Store'].unique():\n",
    "\n",
    "#     a = combined_datasets.loc[combined_datasets['Store']==j]\n",
    "#     a.sort_values(['Date'], inplace=True)\n",
    "\n",
    "#     holidays_last_week, holidays_this_week, holidays_next_week = [], [], []\n",
    "#     this_week_dict= dict()\n",
    "\n",
    "#     for i in range(len(a)):\n",
    "\n",
    "#         present_week = a.iloc[i]['WeekOfYear']\n",
    "#         present_year = a.iloc[i]['Year']\n",
    "        \n",
    "#         df_present = a.loc[(a['WeekOfYear']==present_week) & (a['Year']==present_year) & (a['Open']==0)]\n",
    "\n",
    "#         holidays = len(df_present)\n",
    "\n",
    "#         if (present_year,present_week) not in this_week_dict.keys():\n",
    "#             this_week_dict[(present_year,present_week)] = holidays\n",
    "#         else:\n",
    "#             continue\n",
    "    \n",
    "#     dict_for_store_holidays[j] = this_week_dict"
   ]
  },
  {
   "cell_type": "code",
   "execution_count": null,
   "metadata": {
    "ExecuteTime": {
     "end_time": "2021-03-05T23:13:36.024561Z",
     "start_time": "2021-03-05T23:07:19.429Z"
    }
   },
   "outputs": [],
   "source": [
    "combined_datasets.info()"
   ]
  },
  {
   "cell_type": "markdown",
   "metadata": {},
   "source": [
    "------------------------------------------------------------------------------------------------"
   ]
  },
  {
   "cell_type": "code",
   "execution_count": null,
   "metadata": {
    "ExecuteTime": {
     "end_time": "2021-03-05T23:13:36.026560Z",
     "start_time": "2021-03-05T23:07:19.434Z"
    }
   },
   "outputs": [],
   "source": [
    "combined_datasets['StateHoliday'].replace(0, '0', inplace=True)"
   ]
  },
  {
   "cell_type": "code",
   "execution_count": null,
   "metadata": {
    "ExecuteTime": {
     "end_time": "2021-03-05T23:13:36.028558Z",
     "start_time": "2021-03-05T23:07:19.439Z"
    }
   },
   "outputs": [],
   "source": [
    "# X = combined_datasets.drop(['SalesLog','Sales'], axis=1)\n",
    "# y = combined_datasets['Sales']"
   ]
  },
  {
   "cell_type": "code",
   "execution_count": null,
   "metadata": {
    "ExecuteTime": {
     "end_time": "2021-03-05T23:13:36.030557Z",
     "start_time": "2021-03-05T23:07:19.445Z"
    }
   },
   "outputs": [],
   "source": [
    "# Get total sales, customers and open days per store\n",
    "store_data_sales = combined_datasets.groupby([combined_datasets['Store']])['Sales'].sum()\n",
    "store_data_customers = combined_datasets.groupby([combined_datasets['Store']])['Customers'].sum()\n",
    "store_data_open = combined_datasets.groupby([combined_datasets['Store']])['Open'].count()"
   ]
  },
  {
   "cell_type": "code",
   "execution_count": null,
   "metadata": {
    "ExecuteTime": {
     "end_time": "2021-03-05T23:13:36.033555Z",
     "start_time": "2021-03-05T23:07:19.449Z"
    }
   },
   "outputs": [],
   "source": [
    "# Calculate sales per day, customers per day and sales per customers per day\n",
    "store_data_sales_per_day = store_data_sales / store_data_open\n",
    "store_data_customers_per_day = store_data_customers / store_data_open\n",
    "store_data_sales_per_customer_per_day = store_data_sales_per_day / store_data_customers_per_day"
   ]
  },
  {
   "cell_type": "code",
   "execution_count": null,
   "metadata": {
    "ExecuteTime": {
     "end_time": "2021-03-05T23:13:36.036556Z",
     "start_time": "2021-03-05T23:07:19.454Z"
    }
   },
   "outputs": [],
   "source": [
    "#Saving the above values in a dictionary so that they can be mapped to the dataframe.\n",
    "sales_per_day_dict = dict(store_data_sales_per_day)\n",
    "customers_per_day_dict = dict(store_data_customers_per_day)\n",
    "sales_per_customers_per_day_dict = dict(store_data_sales_per_customer_per_day)"
   ]
  },
  {
   "cell_type": "code",
   "execution_count": null,
   "metadata": {
    "ExecuteTime": {
     "end_time": "2021-03-05T23:13:36.038553Z",
     "start_time": "2021-03-05T23:07:19.460Z"
    },
    "scrolled": true
   },
   "outputs": [],
   "source": [
    "combined_datasets['SalesPerDay'] = combined_datasets['Store'].map(sales_per_day_dict)\n",
    "combined_datasets['CustomersPerDay'] = combined_datasets['Store'].map(customers_per_day_dict)\n",
    "combined_datasets['SalesPerCustomersPerDay'] = combined_datasets['Store'].map(sales_per_customers_per_day_dict)\n",
    "combined_datasets"
   ]
  },
  {
   "cell_type": "code",
   "execution_count": null,
   "metadata": {
    "ExecuteTime": {
     "end_time": "2021-03-05T23:13:36.040550Z",
     "start_time": "2021-03-05T23:07:19.466Z"
    }
   },
   "outputs": [],
   "source": [
    "combined_datasets"
   ]
  },
  {
   "cell_type": "code",
   "execution_count": null,
   "metadata": {
    "ExecuteTime": {
     "end_time": "2021-03-05T23:13:36.042550Z",
     "start_time": "2021-03-05T23:07:19.469Z"
    }
   },
   "outputs": [],
   "source": [
    "# #Splitting PromoInterval into parts. For ex: (Jan,March,May) --> (Jan), (March), (May).\n",
    "# s = combined_datasets['PromoInterval'].str.split(',').apply(pd.Series, 1)\n",
    "# s.columns = ['PromoInterval0', 'PromoInterval1', 'PromoInterval2', 'PromoInterval3']"
   ]
  },
  {
   "cell_type": "code",
   "execution_count": null,
   "metadata": {
    "ExecuteTime": {
     "end_time": "2021-03-05T23:13:36.044550Z",
     "start_time": "2021-03-05T23:07:19.473Z"
    }
   },
   "outputs": [],
   "source": [
    "# s"
   ]
  },
  {
   "cell_type": "code",
   "execution_count": null,
   "metadata": {
    "ExecuteTime": {
     "end_time": "2021-03-05T23:13:36.045547Z",
     "start_time": "2021-03-05T23:07:19.477Z"
    }
   },
   "outputs": [],
   "source": [
    "# combined_datasets = combined_datasets.join(s, how='left', lsuffix='_left')\n",
    "# combined_datasets\n",
    "\n",
    "# s = df_SUBMIT['PromoInterval'].str.split(',').apply(pd.Series, 1)\n",
    "# s.columns = ['PromoInterval0', 'PromoInterval1', 'PromoInterval2', 'PromoInterval3']\n",
    "# df_SUBMIT = df_SUBMIT.join(s)"
   ]
  },
  {
   "cell_type": "code",
   "execution_count": null,
   "metadata": {
    "ExecuteTime": {
     "end_time": "2021-03-05T23:13:36.047546Z",
     "start_time": "2021-03-05T23:07:19.480Z"
    }
   },
   "outputs": [],
   "source": [
    "#Converting Promointerval columns to numerical.\n",
    "month_to_num_dict = {\n",
    "                    'Jan' : 1,\n",
    "                    'Feb' : 2,\n",
    "                    'Mar' : 3,\n",
    "                    'Apr' : 4,\n",
    "                    'May' : 5,\n",
    "                    'Jun' : 6,\n",
    "                    'Jul' : 7,\n",
    "                    'Aug' : 8,\n",
    "                    'Sept' : 9, \n",
    "                    'Oct' : 10,\n",
    "                    'Nov' : 11,\n",
    "                    'Dec' : 12\n",
    "#     ,\n",
    "#                     'nan' : np.NaN\n",
    "                    }"
   ]
  },
  {
   "cell_type": "code",
   "execution_count": null,
   "metadata": {
    "ExecuteTime": {
     "end_time": "2021-03-05T23:13:36.049544Z",
     "start_time": "2021-03-05T23:07:19.484Z"
    }
   },
   "outputs": [],
   "source": [
    "month_to_num_dict"
   ]
  },
  {
   "cell_type": "code",
   "execution_count": null,
   "metadata": {
    "ExecuteTime": {
     "end_time": "2021-03-05T23:13:36.050544Z",
     "start_time": "2021-03-05T23:07:19.488Z"
    }
   },
   "outputs": [],
   "source": [
    "combined_datasets['PromoInterval0'] = combined_datasets['PromoInterval0'].map(month_to_num_dict)\n",
    "combined_datasets['PromoInterval1'] = combined_datasets['PromoInterval1'].map(month_to_num_dict)\n",
    "combined_datasets['PromoInterval2'] = combined_datasets['PromoInterval2'].map(month_to_num_dict)\n",
    "combined_datasets['PromoInterval3'] = combined_datasets['PromoInterval3'].map(month_to_num_dict)\n",
    "\n",
    "#Removing PromoInterval feature as no further use now.\n"
   ]
  },
  {
   "cell_type": "code",
   "execution_count": null,
   "metadata": {
    "ExecuteTime": {
     "end_time": "2021-03-05T23:13:36.052543Z",
     "start_time": "2021-03-05T23:07:19.492Z"
    }
   },
   "outputs": [],
   "source": [
    "del combined_datasets['PromoInterval']"
   ]
  },
  {
   "cell_type": "code",
   "execution_count": null,
   "metadata": {
    "ExecuteTime": {
     "end_time": "2021-03-05T23:13:36.053542Z",
     "start_time": "2021-03-05T23:07:19.498Z"
    }
   },
   "outputs": [],
   "source": [
    "combined_datasets"
   ]
  },
  {
   "cell_type": "code",
   "execution_count": null,
   "metadata": {
    "ExecuteTime": {
     "end_time": "2021-03-05T23:13:36.056540Z",
     "start_time": "2021-03-05T23:07:19.502Z"
    }
   },
   "outputs": [],
   "source": [
    "\n",
    "base_X = combined_datasets[['Store', 'DayOfWeek', 'Promo','StateHoliday', 'SchoolHoliday','StoreType', 'Assortment', 'CompetitionDistance',\n",
    "            'CompetitionOpenSinceMonth', 'CompetitionOpenSinceYear', 'Promo2', 'Promo2SinceWeek', 'Promo2SinceYear', 'Year',\n",
    "            'Month', 'Day', 'WeekOfYear', 'DayOfYear',  'SalesPerDay', 'CustomersPerDay', 'SalesPerCustomersPerDay', \n",
    "            'PromoInterval0', 'PromoInterval1', 'PromoInterval2', 'PromoInterval3']]\n",
    "\n",
    "y = combined_datasets['Sales']"
   ]
  },
  {
   "cell_type": "code",
   "execution_count": null,
   "metadata": {
    "ExecuteTime": {
     "end_time": "2021-03-05T23:13:36.058541Z",
     "start_time": "2021-03-05T23:07:19.505Z"
    }
   },
   "outputs": [],
   "source": [
    "cat_cols = ['StoreType','Assortment','StateHoliday','DayOfWeek','Promo','Year','Promo2', 'PromoInterval0', 'PromoInterval1', 'PromoInterval2', 'PromoInterval3']\n",
    "num_cols = [i for i in base_X.columns if i not in cat_cols]\n",
    "\n",
    "num_transformer = Pipeline(steps = [('imp', IterativeImputer(initial_strategy='median')),\n",
    "                                    ('scaler', StandardScaler())])\n",
    "\n",
    "cat_transformer = Pipeline(steps = [('imp', SimpleImputer(strategy='most_frequent')),\n",
    "                                    ('onehot', OneHotEncoder(handle_unknown='ignore'))])\n",
    "\n",
    "preprocessor = ColumnTransformer(transformers=[('num', num_transformer,num_cols),\n",
    "                                               ('cat',cat_transformer,cat_cols)])"
   ]
  },
  {
   "cell_type": "code",
   "execution_count": null,
   "metadata": {
    "ExecuteTime": {
     "end_time": "2021-03-05T23:13:36.059540Z",
     "start_time": "2021-03-05T23:07:19.509Z"
    }
   },
   "outputs": [],
   "source": [
    "preprocessor.fit(base_X)\n",
    "pickle.dump(preprocessor, open('./Data_Preprocessing_Report/Data/Original/preprocessor_base.pkl','wb'))"
   ]
  },
  {
   "cell_type": "code",
   "execution_count": null,
   "metadata": {
    "ExecuteTime": {
     "end_time": "2021-03-05T23:13:36.061538Z",
     "start_time": "2021-03-05T23:07:19.512Z"
    }
   },
   "outputs": [],
   "source": [
    "preprocessor = pickle.load(open('./Data_Preprocessing_Report/Data/Original/preprocessor_base.pkl','rb'))"
   ]
  },
  {
   "cell_type": "code",
   "execution_count": null,
   "metadata": {
    "ExecuteTime": {
     "end_time": "2021-03-05T23:13:36.063537Z",
     "start_time": "2021-03-05T23:07:19.516Z"
    }
   },
   "outputs": [],
   "source": [
    "X_transformed = preprocessor.transform(base_X)"
   ]
  },
  {
   "cell_type": "code",
   "execution_count": null,
   "metadata": {
    "ExecuteTime": {
     "end_time": "2021-03-05T23:13:36.065535Z",
     "start_time": "2021-03-05T23:07:19.519Z"
    }
   },
   "outputs": [],
   "source": [
    "from sklearn.model_selection import train_test_split"
   ]
  },
  {
   "cell_type": "code",
   "execution_count": null,
   "metadata": {
    "ExecuteTime": {
     "end_time": "2021-03-05T23:13:36.067533Z",
     "start_time": "2021-03-05T23:07:19.523Z"
    }
   },
   "outputs": [],
   "source": [
    "X_train, X_test, y_train, y_test = train_test_split(X_transformed, y, shuffle=False, random_state=21, test_size=0.2)"
   ]
  },
  {
   "cell_type": "code",
   "execution_count": null,
   "metadata": {
    "ExecuteTime": {
     "end_time": "2021-03-05T23:13:36.069532Z",
     "start_time": "2021-03-05T23:07:19.527Z"
    }
   },
   "outputs": [],
   "source": [
    "from sklearn.ensemble import RandomForestRegressor\n",
    "\n",
    "model = RandomForestRegressor(max_depth=20,n_jobs=-1, random_state=21)\n",
    "model.fit(X_train, y_train)"
   ]
  },
  {
   "cell_type": "code",
   "execution_count": null,
   "metadata": {
    "ExecuteTime": {
     "end_time": "2021-03-05T23:13:36.071531Z",
     "start_time": "2021-03-05T23:07:19.530Z"
    }
   },
   "outputs": [],
   "source": [
    "def rmspe(y, yhat):\n",
    "    rmspe = np.sqrt(np.mean(((y - yhat)/y)**2))\n",
    "    return rmspe\n",
    "\n",
    "def rmspe_xg(yhat, y):\n",
    "    # y = y.values\n",
    "    y = y.get_label()\n",
    "    rmspe = np.sqrt(np.mean(((y - yhat)/y)**2))\n",
    "    return \"rmspe\", rmspe\n",
    "\n",
    "scorer = make_scorer(rmspe, greater_is_better=False)"
   ]
  },
  {
   "cell_type": "code",
   "execution_count": null,
   "metadata": {
    "ExecuteTime": {
     "end_time": "2021-03-05T23:13:36.073529Z",
     "start_time": "2021-03-05T23:07:19.534Z"
    }
   },
   "outputs": [],
   "source": [
    "train_preds = model.predict(X_train)\n",
    "rmspe(y_train,train_preds)"
   ]
  },
  {
   "cell_type": "code",
   "execution_count": null,
   "metadata": {
    "ExecuteTime": {
     "end_time": "2021-03-05T23:13:36.074530Z",
     "start_time": "2021-03-05T23:07:19.538Z"
    }
   },
   "outputs": [],
   "source": [
    "preds = model.predict(X_test)\n",
    "rmspe(y_test, preds)"
   ]
  },
  {
   "cell_type": "code",
   "execution_count": null,
   "metadata": {
    "ExecuteTime": {
     "end_time": "2021-03-05T23:13:36.076529Z",
     "start_time": "2021-03-05T23:07:19.541Z"
    }
   },
   "outputs": [],
   "source": [
    "X_transformed "
   ]
  }
 ],
 "metadata": {
  "kernelspec": {
   "display_name": "Python 3",
   "language": "python",
   "name": "python3"
  },
  "language_info": {
   "codemirror_mode": {
    "name": "ipython",
    "version": 3
   },
   "file_extension": ".py",
   "mimetype": "text/x-python",
   "name": "python",
   "nbconvert_exporter": "python",
   "pygments_lexer": "ipython3",
   "version": "3.8.5"
  },
  "toc": {
   "base_numbering": 1,
   "nav_menu": {},
   "number_sections": false,
   "sideBar": true,
   "skip_h1_title": false,
   "title_cell": "Appendix",
   "title_sidebar": "Contents",
   "toc_cell": true,
   "toc_position": {
    "height": "calc(100% - 180px)",
    "left": "10px",
    "top": "150px",
    "width": "272px"
   },
   "toc_section_display": true,
   "toc_window_display": true
  },
  "varInspector": {
   "cols": {
    "lenName": 16,
    "lenType": 16,
    "lenVar": 40
   },
   "kernels_config": {
    "python": {
     "delete_cmd_postfix": "",
     "delete_cmd_prefix": "del ",
     "library": "var_list.py",
     "varRefreshCmd": "print(var_dic_list())"
    },
    "r": {
     "delete_cmd_postfix": ") ",
     "delete_cmd_prefix": "rm(",
     "library": "var_list.r",
     "varRefreshCmd": "cat(var_dic_list()) "
    }
   },
   "types_to_exclude": [
    "module",
    "function",
    "builtin_function_or_method",
    "instance",
    "_Feature"
   ],
   "window_display": false
  }
 },
 "nbformat": 4,
 "nbformat_minor": 4
}
